{
 "cells": [
  {
   "cell_type": "code",
   "execution_count": 1,
   "metadata": {
    "id": "1VqtWTI1OgTC"
   },
   "outputs": [
    {
     "data": {
      "application/javascript": [
       "if (window.IPython && IPython.notebook.kernel) IPython.notebook.kernel.execute('jovian.utils.jupyter.get_notebook_name_saved = lambda: \"' + IPython.notebook.notebook_name + '\"')"
      ],
      "text/plain": [
       "<IPython.core.display.Javascript object>"
      ]
     },
     "metadata": {},
     "output_type": "display_data"
    }
   ],
   "source": [
    "import jovian"
   ]
  },
  {
   "cell_type": "code",
   "execution_count": 2,
   "metadata": {
    "colab": {
     "base_uri": "https://localhost:8080/"
    },
    "id": "3F9tjwIPOjjF",
    "outputId": "a32c78c1-e069-4bcd-a87e-0265f713af81"
   },
   "outputs": [
    {
     "data": {
      "application/javascript": [
       "window.require && require([\"base/js/namespace\"],function(Jupyter){Jupyter.notebook.save_checkpoint()})"
      ],
      "text/plain": [
       "<IPython.core.display.Javascript object>"
      ]
     },
     "metadata": {},
     "output_type": "display_data"
    },
    {
     "name": "stdout",
     "output_type": "stream",
     "text": [
      "[jovian] Committed successfully! https://jovian.ai/labheshmahajan01/real-project-f5e1d\u001b[0m\n"
     ]
    },
    {
     "data": {
      "text/plain": [
       "'https://jovian.ai/labheshmahajan01/real-project-f5e1d'"
      ]
     },
     "execution_count": 2,
     "metadata": {},
     "output_type": "execute_result"
    }
   ],
   "source": [
    "jovian.commit()"
   ]
  },
  {
   "cell_type": "code",
   "execution_count": 3,
   "metadata": {
    "id": "hK7diaad2mGo"
   },
   "outputs": [],
   "source": [
    "!pip install jovian --upgrade -q\n",
    "import jovian\n",
    "jovian.set_project(\"us-accidents-analysis\")"
   ]
  },
  {
   "cell_type": "markdown",
   "metadata": {
    "id": "7fLprxlkLWOE"
   },
   "source": [
    "US ACCIDENTS EXPLORATORY DATA ANALYSIS\n",
    "\n",
    "\n",
    "1.  TODO-talk about EDA\n",
    "2.  TODO-talk about the dataset(source,what it contains,how it will be useful)\n",
    "\n",
    "\n",
    "\n",
    "\n",
    "\n",
    "*   KAGGLE\n",
    "*   Information of accidents\n",
    "*   can use to prevent **accidents**\n",
    "\n",
    "\n",
    "*   Mention that  this doesn't contains data about newyork\n",
    "\n",
    "\n",
    "\n"
   ]
  },
  {
   "cell_type": "code",
   "execution_count": 121,
   "metadata": {
    "id": "mObzPbQyLLMd"
   },
   "outputs": [],
   "source": [
    "pip install opendatasets --upgrade --quiet"
   ]
  },
  {
   "cell_type": "code",
   "execution_count": null,
   "metadata": {
    "colab": {
     "base_uri": "https://localhost:8080/"
    },
    "id": "-49AyqvPLLEd",
    "outputId": "e8aef485-4a31-49c0-d887-1872f49a2c53"
   },
   "outputs": [
    {
     "name": "stdout",
     "output_type": "stream",
     "text": [
      "Skipping, found downloaded files in \"./us-accidents\" (use force=True to force download)\n"
     ]
    }
   ],
   "source": [
    "import opendatasets as od\n",
    "download_url=\"https://www.kaggle.com/datasets/sobhanmoosavi/us-accidents\"\n",
    "od.download(download_url)"
   ]
  },
  {
   "cell_type": "code",
   "execution_count": null,
   "metadata": {
    "id": "p9iVBFGfLK3s"
   },
   "outputs": [],
   "source": [
    "data_filename=\"/content/us-accidents/US_Accidents_Dec21_updated.csv\""
   ]
  },
  {
   "cell_type": "markdown",
   "metadata": {
    "id": "TdmncEROdchW"
   },
   "source": [
    "Data Preparation and cleaning\n",
    "\n",
    "\n",
    "1.   Load the file using pandas\n",
    "2.   Look at some information about the data and columns\n",
    "\n",
    "1.   Fix any missing or incorrect values\n",
    "\n",
    "\n",
    "\n"
   ]
  },
  {
   "cell_type": "code",
   "execution_count": null,
   "metadata": {
    "id": "AxzTPgyTLOB1"
   },
   "outputs": [],
   "source": [
    "import  pandas as pd"
   ]
  },
  {
   "cell_type": "code",
   "execution_count": null,
   "metadata": {
    "id": "BdbpoYbFLN93"
   },
   "outputs": [],
   "source": [
    "df=pd.read_csv(data_filename)\n",
    "# in case if the file is not opening then click on the three dots of the file and copy the location"
   ]
  },
  {
   "cell_type": "code",
   "execution_count": null,
   "metadata": {
    "colab": {
     "base_uri": "https://localhost:8080/",
     "height": 904
    },
    "id": "m3QIRA4cLN6A",
    "outputId": "4c956eed-628e-4a8a-cc0f-bb14be8f0f5c"
   },
   "outputs": [
    {
     "data": {
      "text/html": [
       "\n",
       "  <div id=\"df-30c32359-6a3d-4755-bf11-0f184eb62340\">\n",
       "    <div class=\"colab-df-container\">\n",
       "      <div>\n",
       "<style scoped>\n",
       "    .dataframe tbody tr th:only-of-type {\n",
       "        vertical-align: middle;\n",
       "    }\n",
       "\n",
       "    .dataframe tbody tr th {\n",
       "        vertical-align: top;\n",
       "    }\n",
       "\n",
       "    .dataframe thead th {\n",
       "        text-align: right;\n",
       "    }\n",
       "</style>\n",
       "<table border=\"1\" class=\"dataframe\">\n",
       "  <thead>\n",
       "    <tr style=\"text-align: right;\">\n",
       "      <th></th>\n",
       "      <th>ID</th>\n",
       "      <th>Severity</th>\n",
       "      <th>Start_Time</th>\n",
       "      <th>End_Time</th>\n",
       "      <th>Start_Lat</th>\n",
       "      <th>Start_Lng</th>\n",
       "      <th>End_Lat</th>\n",
       "      <th>End_Lng</th>\n",
       "      <th>Distance(mi)</th>\n",
       "      <th>Description</th>\n",
       "      <th>...</th>\n",
       "      <th>Roundabout</th>\n",
       "      <th>Station</th>\n",
       "      <th>Stop</th>\n",
       "      <th>Traffic_Calming</th>\n",
       "      <th>Traffic_Signal</th>\n",
       "      <th>Turning_Loop</th>\n",
       "      <th>Sunrise_Sunset</th>\n",
       "      <th>Civil_Twilight</th>\n",
       "      <th>Nautical_Twilight</th>\n",
       "      <th>Astronomical_Twilight</th>\n",
       "    </tr>\n",
       "  </thead>\n",
       "  <tbody>\n",
       "    <tr>\n",
       "      <th>0</th>\n",
       "      <td>A-1</td>\n",
       "      <td>3</td>\n",
       "      <td>2016-02-08 00:37:08</td>\n",
       "      <td>2016-02-08 06:37:08</td>\n",
       "      <td>40.108910</td>\n",
       "      <td>-83.092860</td>\n",
       "      <td>40.112060</td>\n",
       "      <td>-83.031870</td>\n",
       "      <td>3.230</td>\n",
       "      <td>Between Sawmill Rd/Exit 20 and OH-315/Olentang...</td>\n",
       "      <td>...</td>\n",
       "      <td>False</td>\n",
       "      <td>False</td>\n",
       "      <td>False</td>\n",
       "      <td>False</td>\n",
       "      <td>False</td>\n",
       "      <td>False</td>\n",
       "      <td>Night</td>\n",
       "      <td>Night</td>\n",
       "      <td>Night</td>\n",
       "      <td>Night</td>\n",
       "    </tr>\n",
       "    <tr>\n",
       "      <th>1</th>\n",
       "      <td>A-2</td>\n",
       "      <td>2</td>\n",
       "      <td>2016-02-08 05:56:20</td>\n",
       "      <td>2016-02-08 11:56:20</td>\n",
       "      <td>39.865420</td>\n",
       "      <td>-84.062800</td>\n",
       "      <td>39.865010</td>\n",
       "      <td>-84.048730</td>\n",
       "      <td>0.747</td>\n",
       "      <td>At OH-4/OH-235/Exit 41 - Accident.</td>\n",
       "      <td>...</td>\n",
       "      <td>False</td>\n",
       "      <td>False</td>\n",
       "      <td>False</td>\n",
       "      <td>False</td>\n",
       "      <td>False</td>\n",
       "      <td>False</td>\n",
       "      <td>Night</td>\n",
       "      <td>Night</td>\n",
       "      <td>Night</td>\n",
       "      <td>Night</td>\n",
       "    </tr>\n",
       "    <tr>\n",
       "      <th>2</th>\n",
       "      <td>A-3</td>\n",
       "      <td>2</td>\n",
       "      <td>2016-02-08 06:15:39</td>\n",
       "      <td>2016-02-08 12:15:39</td>\n",
       "      <td>39.102660</td>\n",
       "      <td>-84.524680</td>\n",
       "      <td>39.102090</td>\n",
       "      <td>-84.523960</td>\n",
       "      <td>0.055</td>\n",
       "      <td>At I-71/US-50/Exit 1 - Accident.</td>\n",
       "      <td>...</td>\n",
       "      <td>False</td>\n",
       "      <td>False</td>\n",
       "      <td>False</td>\n",
       "      <td>False</td>\n",
       "      <td>False</td>\n",
       "      <td>False</td>\n",
       "      <td>Night</td>\n",
       "      <td>Night</td>\n",
       "      <td>Night</td>\n",
       "      <td>Day</td>\n",
       "    </tr>\n",
       "    <tr>\n",
       "      <th>3</th>\n",
       "      <td>A-4</td>\n",
       "      <td>2</td>\n",
       "      <td>2016-02-08 06:51:45</td>\n",
       "      <td>2016-02-08 12:51:45</td>\n",
       "      <td>41.062130</td>\n",
       "      <td>-81.537840</td>\n",
       "      <td>41.062170</td>\n",
       "      <td>-81.535470</td>\n",
       "      <td>0.123</td>\n",
       "      <td>At Dart Ave/Exit 21 - Accident.</td>\n",
       "      <td>...</td>\n",
       "      <td>False</td>\n",
       "      <td>False</td>\n",
       "      <td>False</td>\n",
       "      <td>False</td>\n",
       "      <td>False</td>\n",
       "      <td>False</td>\n",
       "      <td>Night</td>\n",
       "      <td>Night</td>\n",
       "      <td>Day</td>\n",
       "      <td>Day</td>\n",
       "    </tr>\n",
       "    <tr>\n",
       "      <th>4</th>\n",
       "      <td>A-5</td>\n",
       "      <td>3</td>\n",
       "      <td>2016-02-08 07:53:43</td>\n",
       "      <td>2016-02-08 13:53:43</td>\n",
       "      <td>39.172393</td>\n",
       "      <td>-84.492792</td>\n",
       "      <td>39.170476</td>\n",
       "      <td>-84.501798</td>\n",
       "      <td>0.500</td>\n",
       "      <td>At Mitchell Ave/Exit 6 - Accident.</td>\n",
       "      <td>...</td>\n",
       "      <td>False</td>\n",
       "      <td>False</td>\n",
       "      <td>False</td>\n",
       "      <td>False</td>\n",
       "      <td>False</td>\n",
       "      <td>False</td>\n",
       "      <td>Day</td>\n",
       "      <td>Day</td>\n",
       "      <td>Day</td>\n",
       "      <td>Day</td>\n",
       "    </tr>\n",
       "    <tr>\n",
       "      <th>...</th>\n",
       "      <td>...</td>\n",
       "      <td>...</td>\n",
       "      <td>...</td>\n",
       "      <td>...</td>\n",
       "      <td>...</td>\n",
       "      <td>...</td>\n",
       "      <td>...</td>\n",
       "      <td>...</td>\n",
       "      <td>...</td>\n",
       "      <td>...</td>\n",
       "      <td>...</td>\n",
       "      <td>...</td>\n",
       "      <td>...</td>\n",
       "      <td>...</td>\n",
       "      <td>...</td>\n",
       "      <td>...</td>\n",
       "      <td>...</td>\n",
       "      <td>...</td>\n",
       "      <td>...</td>\n",
       "      <td>...</td>\n",
       "      <td>...</td>\n",
       "    </tr>\n",
       "    <tr>\n",
       "      <th>2845337</th>\n",
       "      <td>A-2845338</td>\n",
       "      <td>2</td>\n",
       "      <td>2019-08-23 18:03:25</td>\n",
       "      <td>2019-08-23 18:32:01</td>\n",
       "      <td>34.002480</td>\n",
       "      <td>-117.379360</td>\n",
       "      <td>33.998880</td>\n",
       "      <td>-117.370940</td>\n",
       "      <td>0.543</td>\n",
       "      <td>At Market St - Accident.</td>\n",
       "      <td>...</td>\n",
       "      <td>False</td>\n",
       "      <td>False</td>\n",
       "      <td>False</td>\n",
       "      <td>False</td>\n",
       "      <td>False</td>\n",
       "      <td>False</td>\n",
       "      <td>Day</td>\n",
       "      <td>Day</td>\n",
       "      <td>Day</td>\n",
       "      <td>Day</td>\n",
       "    </tr>\n",
       "    <tr>\n",
       "      <th>2845338</th>\n",
       "      <td>A-2845339</td>\n",
       "      <td>2</td>\n",
       "      <td>2019-08-23 19:11:30</td>\n",
       "      <td>2019-08-23 19:38:23</td>\n",
       "      <td>32.766960</td>\n",
       "      <td>-117.148060</td>\n",
       "      <td>32.765550</td>\n",
       "      <td>-117.153630</td>\n",
       "      <td>0.338</td>\n",
       "      <td>At Camino Del Rio/Mission Center Rd - Accident.</td>\n",
       "      <td>...</td>\n",
       "      <td>False</td>\n",
       "      <td>False</td>\n",
       "      <td>False</td>\n",
       "      <td>False</td>\n",
       "      <td>False</td>\n",
       "      <td>False</td>\n",
       "      <td>Day</td>\n",
       "      <td>Day</td>\n",
       "      <td>Day</td>\n",
       "      <td>Day</td>\n",
       "    </tr>\n",
       "    <tr>\n",
       "      <th>2845339</th>\n",
       "      <td>A-2845340</td>\n",
       "      <td>2</td>\n",
       "      <td>2019-08-23 19:00:21</td>\n",
       "      <td>2019-08-23 19:28:49</td>\n",
       "      <td>33.775450</td>\n",
       "      <td>-117.847790</td>\n",
       "      <td>33.777400</td>\n",
       "      <td>-117.857270</td>\n",
       "      <td>0.561</td>\n",
       "      <td>At Glassell St/Grand Ave - Accident. in the ri...</td>\n",
       "      <td>...</td>\n",
       "      <td>False</td>\n",
       "      <td>False</td>\n",
       "      <td>False</td>\n",
       "      <td>False</td>\n",
       "      <td>False</td>\n",
       "      <td>False</td>\n",
       "      <td>Day</td>\n",
       "      <td>Day</td>\n",
       "      <td>Day</td>\n",
       "      <td>Day</td>\n",
       "    </tr>\n",
       "    <tr>\n",
       "      <th>2845340</th>\n",
       "      <td>A-2845341</td>\n",
       "      <td>2</td>\n",
       "      <td>2019-08-23 19:00:21</td>\n",
       "      <td>2019-08-23 19:29:42</td>\n",
       "      <td>33.992460</td>\n",
       "      <td>-118.403020</td>\n",
       "      <td>33.983110</td>\n",
       "      <td>-118.395650</td>\n",
       "      <td>0.772</td>\n",
       "      <td>At CA-90/Marina Fwy/Jefferson Blvd - Accident.</td>\n",
       "      <td>...</td>\n",
       "      <td>False</td>\n",
       "      <td>False</td>\n",
       "      <td>False</td>\n",
       "      <td>False</td>\n",
       "      <td>False</td>\n",
       "      <td>False</td>\n",
       "      <td>Day</td>\n",
       "      <td>Day</td>\n",
       "      <td>Day</td>\n",
       "      <td>Day</td>\n",
       "    </tr>\n",
       "    <tr>\n",
       "      <th>2845341</th>\n",
       "      <td>A-2845342</td>\n",
       "      <td>2</td>\n",
       "      <td>2019-08-23 18:52:06</td>\n",
       "      <td>2019-08-23 19:21:31</td>\n",
       "      <td>34.133930</td>\n",
       "      <td>-117.230920</td>\n",
       "      <td>34.137360</td>\n",
       "      <td>-117.239340</td>\n",
       "      <td>0.537</td>\n",
       "      <td>At Highland Ave/Arden Ave - Accident.</td>\n",
       "      <td>...</td>\n",
       "      <td>False</td>\n",
       "      <td>False</td>\n",
       "      <td>False</td>\n",
       "      <td>False</td>\n",
       "      <td>False</td>\n",
       "      <td>False</td>\n",
       "      <td>Day</td>\n",
       "      <td>Day</td>\n",
       "      <td>Day</td>\n",
       "      <td>Day</td>\n",
       "    </tr>\n",
       "  </tbody>\n",
       "</table>\n",
       "<p>2845342 rows × 47 columns</p>\n",
       "</div>\n",
       "      <button class=\"colab-df-convert\" onclick=\"convertToInteractive('df-30c32359-6a3d-4755-bf11-0f184eb62340')\"\n",
       "              title=\"Convert this dataframe to an interactive table.\"\n",
       "              style=\"display:none;\">\n",
       "        \n",
       "  <svg xmlns=\"http://www.w3.org/2000/svg\" height=\"24px\"viewBox=\"0 0 24 24\"\n",
       "       width=\"24px\">\n",
       "    <path d=\"M0 0h24v24H0V0z\" fill=\"none\"/>\n",
       "    <path d=\"M18.56 5.44l.94 2.06.94-2.06 2.06-.94-2.06-.94-.94-2.06-.94 2.06-2.06.94zm-11 1L8.5 8.5l.94-2.06 2.06-.94-2.06-.94L8.5 2.5l-.94 2.06-2.06.94zm10 10l.94 2.06.94-2.06 2.06-.94-2.06-.94-.94-2.06-.94 2.06-2.06.94z\"/><path d=\"M17.41 7.96l-1.37-1.37c-.4-.4-.92-.59-1.43-.59-.52 0-1.04.2-1.43.59L10.3 9.45l-7.72 7.72c-.78.78-.78 2.05 0 2.83L4 21.41c.39.39.9.59 1.41.59.51 0 1.02-.2 1.41-.59l7.78-7.78 2.81-2.81c.8-.78.8-2.07 0-2.86zM5.41 20L4 18.59l7.72-7.72 1.47 1.35L5.41 20z\"/>\n",
       "  </svg>\n",
       "      </button>\n",
       "      \n",
       "  <style>\n",
       "    .colab-df-container {\n",
       "      display:flex;\n",
       "      flex-wrap:wrap;\n",
       "      gap: 12px;\n",
       "    }\n",
       "\n",
       "    .colab-df-convert {\n",
       "      background-color: #E8F0FE;\n",
       "      border: none;\n",
       "      border-radius: 50%;\n",
       "      cursor: pointer;\n",
       "      display: none;\n",
       "      fill: #1967D2;\n",
       "      height: 32px;\n",
       "      padding: 0 0 0 0;\n",
       "      width: 32px;\n",
       "    }\n",
       "\n",
       "    .colab-df-convert:hover {\n",
       "      background-color: #E2EBFA;\n",
       "      box-shadow: 0px 1px 2px rgba(60, 64, 67, 0.3), 0px 1px 3px 1px rgba(60, 64, 67, 0.15);\n",
       "      fill: #174EA6;\n",
       "    }\n",
       "\n",
       "    [theme=dark] .colab-df-convert {\n",
       "      background-color: #3B4455;\n",
       "      fill: #D2E3FC;\n",
       "    }\n",
       "\n",
       "    [theme=dark] .colab-df-convert:hover {\n",
       "      background-color: #434B5C;\n",
       "      box-shadow: 0px 1px 3px 1px rgba(0, 0, 0, 0.15);\n",
       "      filter: drop-shadow(0px 1px 2px rgba(0, 0, 0, 0.3));\n",
       "      fill: #FFFFFF;\n",
       "    }\n",
       "  </style>\n",
       "\n",
       "      <script>\n",
       "        const buttonEl =\n",
       "          document.querySelector('#df-30c32359-6a3d-4755-bf11-0f184eb62340 button.colab-df-convert');\n",
       "        buttonEl.style.display =\n",
       "          google.colab.kernel.accessAllowed ? 'block' : 'none';\n",
       "\n",
       "        async function convertToInteractive(key) {\n",
       "          const element = document.querySelector('#df-30c32359-6a3d-4755-bf11-0f184eb62340');\n",
       "          const dataTable =\n",
       "            await google.colab.kernel.invokeFunction('convertToInteractive',\n",
       "                                                     [key], {});\n",
       "          if (!dataTable) return;\n",
       "\n",
       "          const docLinkHtml = 'Like what you see? Visit the ' +\n",
       "            '<a target=\"_blank\" href=https://colab.research.google.com/notebooks/data_table.ipynb>data table notebook</a>'\n",
       "            + ' to learn more about interactive tables.';\n",
       "          element.innerHTML = '';\n",
       "          dataTable['output_type'] = 'display_data';\n",
       "          await google.colab.output.renderOutput(dataTable, element);\n",
       "          const docLink = document.createElement('div');\n",
       "          docLink.innerHTML = docLinkHtml;\n",
       "          element.appendChild(docLink);\n",
       "        }\n",
       "      </script>\n",
       "    </div>\n",
       "  </div>\n",
       "  "
      ],
      "text/plain": [
       "                ID  Severity           Start_Time             End_Time  \\\n",
       "0              A-1         3  2016-02-08 00:37:08  2016-02-08 06:37:08   \n",
       "1              A-2         2  2016-02-08 05:56:20  2016-02-08 11:56:20   \n",
       "2              A-3         2  2016-02-08 06:15:39  2016-02-08 12:15:39   \n",
       "3              A-4         2  2016-02-08 06:51:45  2016-02-08 12:51:45   \n",
       "4              A-5         3  2016-02-08 07:53:43  2016-02-08 13:53:43   \n",
       "...            ...       ...                  ...                  ...   \n",
       "2845337  A-2845338         2  2019-08-23 18:03:25  2019-08-23 18:32:01   \n",
       "2845338  A-2845339         2  2019-08-23 19:11:30  2019-08-23 19:38:23   \n",
       "2845339  A-2845340         2  2019-08-23 19:00:21  2019-08-23 19:28:49   \n",
       "2845340  A-2845341         2  2019-08-23 19:00:21  2019-08-23 19:29:42   \n",
       "2845341  A-2845342         2  2019-08-23 18:52:06  2019-08-23 19:21:31   \n",
       "\n",
       "         Start_Lat   Start_Lng    End_Lat     End_Lng  Distance(mi)  \\\n",
       "0        40.108910  -83.092860  40.112060  -83.031870         3.230   \n",
       "1        39.865420  -84.062800  39.865010  -84.048730         0.747   \n",
       "2        39.102660  -84.524680  39.102090  -84.523960         0.055   \n",
       "3        41.062130  -81.537840  41.062170  -81.535470         0.123   \n",
       "4        39.172393  -84.492792  39.170476  -84.501798         0.500   \n",
       "...            ...         ...        ...         ...           ...   \n",
       "2845337  34.002480 -117.379360  33.998880 -117.370940         0.543   \n",
       "2845338  32.766960 -117.148060  32.765550 -117.153630         0.338   \n",
       "2845339  33.775450 -117.847790  33.777400 -117.857270         0.561   \n",
       "2845340  33.992460 -118.403020  33.983110 -118.395650         0.772   \n",
       "2845341  34.133930 -117.230920  34.137360 -117.239340         0.537   \n",
       "\n",
       "                                               Description  ...  Roundabout  \\\n",
       "0        Between Sawmill Rd/Exit 20 and OH-315/Olentang...  ...       False   \n",
       "1                       At OH-4/OH-235/Exit 41 - Accident.  ...       False   \n",
       "2                         At I-71/US-50/Exit 1 - Accident.  ...       False   \n",
       "3                          At Dart Ave/Exit 21 - Accident.  ...       False   \n",
       "4                       At Mitchell Ave/Exit 6 - Accident.  ...       False   \n",
       "...                                                    ...  ...         ...   \n",
       "2845337                           At Market St - Accident.  ...       False   \n",
       "2845338    At Camino Del Rio/Mission Center Rd - Accident.  ...       False   \n",
       "2845339  At Glassell St/Grand Ave - Accident. in the ri...  ...       False   \n",
       "2845340     At CA-90/Marina Fwy/Jefferson Blvd - Accident.  ...       False   \n",
       "2845341              At Highland Ave/Arden Ave - Accident.  ...       False   \n",
       "\n",
       "        Station   Stop Traffic_Calming Traffic_Signal Turning_Loop  \\\n",
       "0         False  False           False          False        False   \n",
       "1         False  False           False          False        False   \n",
       "2         False  False           False          False        False   \n",
       "3         False  False           False          False        False   \n",
       "4         False  False           False          False        False   \n",
       "...         ...    ...             ...            ...          ...   \n",
       "2845337   False  False           False          False        False   \n",
       "2845338   False  False           False          False        False   \n",
       "2845339   False  False           False          False        False   \n",
       "2845340   False  False           False          False        False   \n",
       "2845341   False  False           False          False        False   \n",
       "\n",
       "        Sunrise_Sunset Civil_Twilight Nautical_Twilight Astronomical_Twilight  \n",
       "0                Night          Night             Night                 Night  \n",
       "1                Night          Night             Night                 Night  \n",
       "2                Night          Night             Night                   Day  \n",
       "3                Night          Night               Day                   Day  \n",
       "4                  Day            Day               Day                   Day  \n",
       "...                ...            ...               ...                   ...  \n",
       "2845337            Day            Day               Day                   Day  \n",
       "2845338            Day            Day               Day                   Day  \n",
       "2845339            Day            Day               Day                   Day  \n",
       "2845340            Day            Day               Day                   Day  \n",
       "2845341            Day            Day               Day                   Day  \n",
       "\n",
       "[2845342 rows x 47 columns]"
      ]
     },
     "execution_count": 42,
     "metadata": {},
     "output_type": "execute_result"
    }
   ],
   "source": [
    "df"
   ]
  },
  {
   "cell_type": "code",
   "execution_count": null,
   "metadata": {
    "colab": {
     "base_uri": "https://localhost:8080/"
    },
    "id": "uuItVIv2LN1z",
    "outputId": "690de9e4-525a-4c36-a88b-e1a81a2897f3"
   },
   "outputs": [
    {
     "data": {
      "text/plain": [
       "Index(['ID', 'Severity', 'Start_Time', 'End_Time', 'Start_Lat', 'Start_Lng',\n",
       "       'End_Lat', 'End_Lng', 'Distance(mi)', 'Description', 'Number', 'Street',\n",
       "       'Side', 'City', 'County', 'State', 'Zipcode', 'Country', 'Timezone',\n",
       "       'Airport_Code', 'Weather_Timestamp', 'Temperature(F)', 'Wind_Chill(F)',\n",
       "       'Humidity(%)', 'Pressure(in)', 'Visibility(mi)', 'Wind_Direction',\n",
       "       'Wind_Speed(mph)', 'Precipitation(in)', 'Weather_Condition', 'Amenity',\n",
       "       'Bump', 'Crossing', 'Give_Way', 'Junction', 'No_Exit', 'Railway',\n",
       "       'Roundabout', 'Station', 'Stop', 'Traffic_Calming', 'Traffic_Signal',\n",
       "       'Turning_Loop', 'Sunrise_Sunset', 'Civil_Twilight', 'Nautical_Twilight',\n",
       "       'Astronomical_Twilight'],\n",
       "      dtype='object')"
      ]
     },
     "execution_count": 43,
     "metadata": {},
     "output_type": "execute_result"
    }
   ],
   "source": [
    "df.columns"
   ]
  },
  {
   "cell_type": "code",
   "execution_count": null,
   "metadata": {
    "colab": {
     "base_uri": "https://localhost:8080/"
    },
    "id": "wt37OfpxLNxl",
    "outputId": "85d9bc72-9053-4524-c86c-98f98600bd5c"
   },
   "outputs": [
    {
     "data": {
      "text/plain": [
       "47"
      ]
     },
     "execution_count": 44,
     "metadata": {},
     "output_type": "execute_result"
    }
   ],
   "source": [
    "len(df.columns)\n",
    "# here we get the number of columns"
   ]
  },
  {
   "cell_type": "code",
   "execution_count": null,
   "metadata": {
    "colab": {
     "base_uri": "https://localhost:8080/"
    },
    "id": "naNhkn5hKjHs",
    "outputId": "04e70e44-f3a7-4f10-fde5-a7bbc6f4bb67"
   },
   "outputs": [
    {
     "data": {
      "text/plain": [
       "2845342"
      ]
     },
     "execution_count": 45,
     "metadata": {},
     "output_type": "execute_result"
    }
   ],
   "source": [
    "len(df)\n",
    "# here we get the number of rows"
   ]
  },
  {
   "cell_type": "code",
   "execution_count": null,
   "metadata": {
    "colab": {
     "base_uri": "https://localhost:8080/"
    },
    "id": "5-96qb6wLFCg",
    "outputId": "5899c2ea-ede3-43e1-9338-7b23c37aeba3"
   },
   "outputs": [
    {
     "name": "stdout",
     "output_type": "stream",
     "text": [
      "<class 'pandas.core.frame.DataFrame'>\n",
      "RangeIndex: 2845342 entries, 0 to 2845341\n",
      "Data columns (total 47 columns):\n",
      " #   Column                 Dtype  \n",
      "---  ------                 -----  \n",
      " 0   ID                     object \n",
      " 1   Severity               int64  \n",
      " 2   Start_Time             object \n",
      " 3   End_Time               object \n",
      " 4   Start_Lat              float64\n",
      " 5   Start_Lng              float64\n",
      " 6   End_Lat                float64\n",
      " 7   End_Lng                float64\n",
      " 8   Distance(mi)           float64\n",
      " 9   Description            object \n",
      " 10  Number                 float64\n",
      " 11  Street                 object \n",
      " 12  Side                   object \n",
      " 13  City                   object \n",
      " 14  County                 object \n",
      " 15  State                  object \n",
      " 16  Zipcode                object \n",
      " 17  Country                object \n",
      " 18  Timezone               object \n",
      " 19  Airport_Code           object \n",
      " 20  Weather_Timestamp      object \n",
      " 21  Temperature(F)         float64\n",
      " 22  Wind_Chill(F)          float64\n",
      " 23  Humidity(%)            float64\n",
      " 24  Pressure(in)           float64\n",
      " 25  Visibility(mi)         float64\n",
      " 26  Wind_Direction         object \n",
      " 27  Wind_Speed(mph)        float64\n",
      " 28  Precipitation(in)      float64\n",
      " 29  Weather_Condition      object \n",
      " 30  Amenity                bool   \n",
      " 31  Bump                   bool   \n",
      " 32  Crossing               bool   \n",
      " 33  Give_Way               bool   \n",
      " 34  Junction               bool   \n",
      " 35  No_Exit                bool   \n",
      " 36  Railway                bool   \n",
      " 37  Roundabout             bool   \n",
      " 38  Station                bool   \n",
      " 39  Stop                   bool   \n",
      " 40  Traffic_Calming        bool   \n",
      " 41  Traffic_Signal         bool   \n",
      " 42  Turning_Loop           bool   \n",
      " 43  Sunrise_Sunset         object \n",
      " 44  Civil_Twilight         object \n",
      " 45  Nautical_Twilight      object \n",
      " 46  Astronomical_Twilight  object \n",
      "dtypes: bool(13), float64(13), int64(1), object(20)\n",
      "memory usage: 773.4+ MB\n"
     ]
    }
   ],
   "source": [
    "df.info()"
   ]
  },
  {
   "cell_type": "code",
   "execution_count": null,
   "metadata": {
    "colab": {
     "base_uri": "https://localhost:8080/",
     "height": 364
    },
    "id": "2dz6G9lGLFbg",
    "outputId": "9f30f45a-9cd5-4060-fbaf-d32b53f395d2"
   },
   "outputs": [
    {
     "data": {
      "text/html": [
       "\n",
       "  <div id=\"df-b973534a-6294-420b-8c57-e85cdb37ee10\">\n",
       "    <div class=\"colab-df-container\">\n",
       "      <div>\n",
       "<style scoped>\n",
       "    .dataframe tbody tr th:only-of-type {\n",
       "        vertical-align: middle;\n",
       "    }\n",
       "\n",
       "    .dataframe tbody tr th {\n",
       "        vertical-align: top;\n",
       "    }\n",
       "\n",
       "    .dataframe thead th {\n",
       "        text-align: right;\n",
       "    }\n",
       "</style>\n",
       "<table border=\"1\" class=\"dataframe\">\n",
       "  <thead>\n",
       "    <tr style=\"text-align: right;\">\n",
       "      <th></th>\n",
       "      <th>Severity</th>\n",
       "      <th>Start_Lat</th>\n",
       "      <th>Start_Lng</th>\n",
       "      <th>End_Lat</th>\n",
       "      <th>End_Lng</th>\n",
       "      <th>Distance(mi)</th>\n",
       "      <th>Number</th>\n",
       "      <th>Temperature(F)</th>\n",
       "      <th>Wind_Chill(F)</th>\n",
       "      <th>Humidity(%)</th>\n",
       "      <th>Pressure(in)</th>\n",
       "      <th>Visibility(mi)</th>\n",
       "      <th>Wind_Speed(mph)</th>\n",
       "      <th>Precipitation(in)</th>\n",
       "    </tr>\n",
       "  </thead>\n",
       "  <tbody>\n",
       "    <tr>\n",
       "      <th>count</th>\n",
       "      <td>2.845342e+06</td>\n",
       "      <td>2.845342e+06</td>\n",
       "      <td>2.845342e+06</td>\n",
       "      <td>2.845342e+06</td>\n",
       "      <td>2.845342e+06</td>\n",
       "      <td>2.845342e+06</td>\n",
       "      <td>1.101431e+06</td>\n",
       "      <td>2.776068e+06</td>\n",
       "      <td>2.375699e+06</td>\n",
       "      <td>2.772250e+06</td>\n",
       "      <td>2.786142e+06</td>\n",
       "      <td>2.774796e+06</td>\n",
       "      <td>2.687398e+06</td>\n",
       "      <td>2.295884e+06</td>\n",
       "    </tr>\n",
       "    <tr>\n",
       "      <th>mean</th>\n",
       "      <td>2.137572e+00</td>\n",
       "      <td>3.624520e+01</td>\n",
       "      <td>-9.711463e+01</td>\n",
       "      <td>3.624532e+01</td>\n",
       "      <td>-9.711439e+01</td>\n",
       "      <td>7.026779e-01</td>\n",
       "      <td>8.089408e+03</td>\n",
       "      <td>6.179356e+01</td>\n",
       "      <td>5.965823e+01</td>\n",
       "      <td>6.436545e+01</td>\n",
       "      <td>2.947234e+01</td>\n",
       "      <td>9.099391e+00</td>\n",
       "      <td>7.395044e+00</td>\n",
       "      <td>7.016940e-03</td>\n",
       "    </tr>\n",
       "    <tr>\n",
       "      <th>std</th>\n",
       "      <td>4.787216e-01</td>\n",
       "      <td>5.363797e+00</td>\n",
       "      <td>1.831782e+01</td>\n",
       "      <td>5.363873e+00</td>\n",
       "      <td>1.831763e+01</td>\n",
       "      <td>1.560361e+00</td>\n",
       "      <td>1.836009e+04</td>\n",
       "      <td>1.862263e+01</td>\n",
       "      <td>2.116097e+01</td>\n",
       "      <td>2.287457e+01</td>\n",
       "      <td>1.045286e+00</td>\n",
       "      <td>2.717546e+00</td>\n",
       "      <td>5.527454e+00</td>\n",
       "      <td>9.348831e-02</td>\n",
       "    </tr>\n",
       "    <tr>\n",
       "      <th>min</th>\n",
       "      <td>1.000000e+00</td>\n",
       "      <td>2.456603e+01</td>\n",
       "      <td>-1.245481e+02</td>\n",
       "      <td>2.456601e+01</td>\n",
       "      <td>-1.245457e+02</td>\n",
       "      <td>0.000000e+00</td>\n",
       "      <td>0.000000e+00</td>\n",
       "      <td>-8.900000e+01</td>\n",
       "      <td>-8.900000e+01</td>\n",
       "      <td>1.000000e+00</td>\n",
       "      <td>0.000000e+00</td>\n",
       "      <td>0.000000e+00</td>\n",
       "      <td>0.000000e+00</td>\n",
       "      <td>0.000000e+00</td>\n",
       "    </tr>\n",
       "    <tr>\n",
       "      <th>25%</th>\n",
       "      <td>2.000000e+00</td>\n",
       "      <td>3.344517e+01</td>\n",
       "      <td>-1.180331e+02</td>\n",
       "      <td>3.344628e+01</td>\n",
       "      <td>-1.180333e+02</td>\n",
       "      <td>5.200000e-02</td>\n",
       "      <td>1.270000e+03</td>\n",
       "      <td>5.000000e+01</td>\n",
       "      <td>4.600000e+01</td>\n",
       "      <td>4.800000e+01</td>\n",
       "      <td>2.931000e+01</td>\n",
       "      <td>1.000000e+01</td>\n",
       "      <td>3.500000e+00</td>\n",
       "      <td>0.000000e+00</td>\n",
       "    </tr>\n",
       "    <tr>\n",
       "      <th>50%</th>\n",
       "      <td>2.000000e+00</td>\n",
       "      <td>3.609861e+01</td>\n",
       "      <td>-9.241808e+01</td>\n",
       "      <td>3.609799e+01</td>\n",
       "      <td>-9.241772e+01</td>\n",
       "      <td>2.440000e-01</td>\n",
       "      <td>4.007000e+03</td>\n",
       "      <td>6.400000e+01</td>\n",
       "      <td>6.300000e+01</td>\n",
       "      <td>6.700000e+01</td>\n",
       "      <td>2.982000e+01</td>\n",
       "      <td>1.000000e+01</td>\n",
       "      <td>7.000000e+00</td>\n",
       "      <td>0.000000e+00</td>\n",
       "    </tr>\n",
       "    <tr>\n",
       "      <th>75%</th>\n",
       "      <td>2.000000e+00</td>\n",
       "      <td>4.016024e+01</td>\n",
       "      <td>-8.037243e+01</td>\n",
       "      <td>4.016105e+01</td>\n",
       "      <td>-8.037338e+01</td>\n",
       "      <td>7.640000e-01</td>\n",
       "      <td>9.567000e+03</td>\n",
       "      <td>7.600000e+01</td>\n",
       "      <td>7.600000e+01</td>\n",
       "      <td>8.300000e+01</td>\n",
       "      <td>3.001000e+01</td>\n",
       "      <td>1.000000e+01</td>\n",
       "      <td>1.000000e+01</td>\n",
       "      <td>0.000000e+00</td>\n",
       "    </tr>\n",
       "    <tr>\n",
       "      <th>max</th>\n",
       "      <td>4.000000e+00</td>\n",
       "      <td>4.900058e+01</td>\n",
       "      <td>-6.711317e+01</td>\n",
       "      <td>4.907500e+01</td>\n",
       "      <td>-6.710924e+01</td>\n",
       "      <td>1.551860e+02</td>\n",
       "      <td>9.999997e+06</td>\n",
       "      <td>1.960000e+02</td>\n",
       "      <td>1.960000e+02</td>\n",
       "      <td>1.000000e+02</td>\n",
       "      <td>5.890000e+01</td>\n",
       "      <td>1.400000e+02</td>\n",
       "      <td>1.087000e+03</td>\n",
       "      <td>2.400000e+01</td>\n",
       "    </tr>\n",
       "  </tbody>\n",
       "</table>\n",
       "</div>\n",
       "      <button class=\"colab-df-convert\" onclick=\"convertToInteractive('df-b973534a-6294-420b-8c57-e85cdb37ee10')\"\n",
       "              title=\"Convert this dataframe to an interactive table.\"\n",
       "              style=\"display:none;\">\n",
       "        \n",
       "  <svg xmlns=\"http://www.w3.org/2000/svg\" height=\"24px\"viewBox=\"0 0 24 24\"\n",
       "       width=\"24px\">\n",
       "    <path d=\"M0 0h24v24H0V0z\" fill=\"none\"/>\n",
       "    <path d=\"M18.56 5.44l.94 2.06.94-2.06 2.06-.94-2.06-.94-.94-2.06-.94 2.06-2.06.94zm-11 1L8.5 8.5l.94-2.06 2.06-.94-2.06-.94L8.5 2.5l-.94 2.06-2.06.94zm10 10l.94 2.06.94-2.06 2.06-.94-2.06-.94-.94-2.06-.94 2.06-2.06.94z\"/><path d=\"M17.41 7.96l-1.37-1.37c-.4-.4-.92-.59-1.43-.59-.52 0-1.04.2-1.43.59L10.3 9.45l-7.72 7.72c-.78.78-.78 2.05 0 2.83L4 21.41c.39.39.9.59 1.41.59.51 0 1.02-.2 1.41-.59l7.78-7.78 2.81-2.81c.8-.78.8-2.07 0-2.86zM5.41 20L4 18.59l7.72-7.72 1.47 1.35L5.41 20z\"/>\n",
       "  </svg>\n",
       "      </button>\n",
       "      \n",
       "  <style>\n",
       "    .colab-df-container {\n",
       "      display:flex;\n",
       "      flex-wrap:wrap;\n",
       "      gap: 12px;\n",
       "    }\n",
       "\n",
       "    .colab-df-convert {\n",
       "      background-color: #E8F0FE;\n",
       "      border: none;\n",
       "      border-radius: 50%;\n",
       "      cursor: pointer;\n",
       "      display: none;\n",
       "      fill: #1967D2;\n",
       "      height: 32px;\n",
       "      padding: 0 0 0 0;\n",
       "      width: 32px;\n",
       "    }\n",
       "\n",
       "    .colab-df-convert:hover {\n",
       "      background-color: #E2EBFA;\n",
       "      box-shadow: 0px 1px 2px rgba(60, 64, 67, 0.3), 0px 1px 3px 1px rgba(60, 64, 67, 0.15);\n",
       "      fill: #174EA6;\n",
       "    }\n",
       "\n",
       "    [theme=dark] .colab-df-convert {\n",
       "      background-color: #3B4455;\n",
       "      fill: #D2E3FC;\n",
       "    }\n",
       "\n",
       "    [theme=dark] .colab-df-convert:hover {\n",
       "      background-color: #434B5C;\n",
       "      box-shadow: 0px 1px 3px 1px rgba(0, 0, 0, 0.15);\n",
       "      filter: drop-shadow(0px 1px 2px rgba(0, 0, 0, 0.3));\n",
       "      fill: #FFFFFF;\n",
       "    }\n",
       "  </style>\n",
       "\n",
       "      <script>\n",
       "        const buttonEl =\n",
       "          document.querySelector('#df-b973534a-6294-420b-8c57-e85cdb37ee10 button.colab-df-convert');\n",
       "        buttonEl.style.display =\n",
       "          google.colab.kernel.accessAllowed ? 'block' : 'none';\n",
       "\n",
       "        async function convertToInteractive(key) {\n",
       "          const element = document.querySelector('#df-b973534a-6294-420b-8c57-e85cdb37ee10');\n",
       "          const dataTable =\n",
       "            await google.colab.kernel.invokeFunction('convertToInteractive',\n",
       "                                                     [key], {});\n",
       "          if (!dataTable) return;\n",
       "\n",
       "          const docLinkHtml = 'Like what you see? Visit the ' +\n",
       "            '<a target=\"_blank\" href=https://colab.research.google.com/notebooks/data_table.ipynb>data table notebook</a>'\n",
       "            + ' to learn more about interactive tables.';\n",
       "          element.innerHTML = '';\n",
       "          dataTable['output_type'] = 'display_data';\n",
       "          await google.colab.output.renderOutput(dataTable, element);\n",
       "          const docLink = document.createElement('div');\n",
       "          docLink.innerHTML = docLinkHtml;\n",
       "          element.appendChild(docLink);\n",
       "        }\n",
       "      </script>\n",
       "    </div>\n",
       "  </div>\n",
       "  "
      ],
      "text/plain": [
       "           Severity     Start_Lat     Start_Lng       End_Lat       End_Lng  \\\n",
       "count  2.845342e+06  2.845342e+06  2.845342e+06  2.845342e+06  2.845342e+06   \n",
       "mean   2.137572e+00  3.624520e+01 -9.711463e+01  3.624532e+01 -9.711439e+01   \n",
       "std    4.787216e-01  5.363797e+00  1.831782e+01  5.363873e+00  1.831763e+01   \n",
       "min    1.000000e+00  2.456603e+01 -1.245481e+02  2.456601e+01 -1.245457e+02   \n",
       "25%    2.000000e+00  3.344517e+01 -1.180331e+02  3.344628e+01 -1.180333e+02   \n",
       "50%    2.000000e+00  3.609861e+01 -9.241808e+01  3.609799e+01 -9.241772e+01   \n",
       "75%    2.000000e+00  4.016024e+01 -8.037243e+01  4.016105e+01 -8.037338e+01   \n",
       "max    4.000000e+00  4.900058e+01 -6.711317e+01  4.907500e+01 -6.710924e+01   \n",
       "\n",
       "       Distance(mi)        Number  Temperature(F)  Wind_Chill(F)  \\\n",
       "count  2.845342e+06  1.101431e+06    2.776068e+06   2.375699e+06   \n",
       "mean   7.026779e-01  8.089408e+03    6.179356e+01   5.965823e+01   \n",
       "std    1.560361e+00  1.836009e+04    1.862263e+01   2.116097e+01   \n",
       "min    0.000000e+00  0.000000e+00   -8.900000e+01  -8.900000e+01   \n",
       "25%    5.200000e-02  1.270000e+03    5.000000e+01   4.600000e+01   \n",
       "50%    2.440000e-01  4.007000e+03    6.400000e+01   6.300000e+01   \n",
       "75%    7.640000e-01  9.567000e+03    7.600000e+01   7.600000e+01   \n",
       "max    1.551860e+02  9.999997e+06    1.960000e+02   1.960000e+02   \n",
       "\n",
       "        Humidity(%)  Pressure(in)  Visibility(mi)  Wind_Speed(mph)  \\\n",
       "count  2.772250e+06  2.786142e+06    2.774796e+06     2.687398e+06   \n",
       "mean   6.436545e+01  2.947234e+01    9.099391e+00     7.395044e+00   \n",
       "std    2.287457e+01  1.045286e+00    2.717546e+00     5.527454e+00   \n",
       "min    1.000000e+00  0.000000e+00    0.000000e+00     0.000000e+00   \n",
       "25%    4.800000e+01  2.931000e+01    1.000000e+01     3.500000e+00   \n",
       "50%    6.700000e+01  2.982000e+01    1.000000e+01     7.000000e+00   \n",
       "75%    8.300000e+01  3.001000e+01    1.000000e+01     1.000000e+01   \n",
       "max    1.000000e+02  5.890000e+01    1.400000e+02     1.087000e+03   \n",
       "\n",
       "       Precipitation(in)  \n",
       "count       2.295884e+06  \n",
       "mean        7.016940e-03  \n",
       "std         9.348831e-02  \n",
       "min         0.000000e+00  \n",
       "25%         0.000000e+00  \n",
       "50%         0.000000e+00  \n",
       "75%         0.000000e+00  \n",
       "max         2.400000e+01  "
      ]
     },
     "execution_count": 47,
     "metadata": {},
     "output_type": "execute_result"
    }
   ],
   "source": [
    "df.describe()\n",
    "# here we will get all the statistics of the file"
   ]
  },
  {
   "cell_type": "code",
   "execution_count": null,
   "metadata": {
    "colab": {
     "base_uri": "https://localhost:8080/",
     "height": 488
    },
    "id": "ZNoExwiYLFzA",
    "outputId": "2b35efc1-e21d-4b48-fe0d-15e625465cc3"
   },
   "outputs": [
    {
     "data": {
      "text/html": [
       "\n",
       "  <div id=\"df-d232bced-6d3f-4f28-9059-447f81818229\">\n",
       "    <div class=\"colab-df-container\">\n",
       "      <div>\n",
       "<style scoped>\n",
       "    .dataframe tbody tr th:only-of-type {\n",
       "        vertical-align: middle;\n",
       "    }\n",
       "\n",
       "    .dataframe tbody tr th {\n",
       "        vertical-align: top;\n",
       "    }\n",
       "\n",
       "    .dataframe thead th {\n",
       "        text-align: right;\n",
       "    }\n",
       "</style>\n",
       "<table border=\"1\" class=\"dataframe\">\n",
       "  <thead>\n",
       "    <tr style=\"text-align: right;\">\n",
       "      <th></th>\n",
       "      <th>ID</th>\n",
       "      <th>Severity</th>\n",
       "      <th>Start_Time</th>\n",
       "      <th>End_Time</th>\n",
       "      <th>Start_Lat</th>\n",
       "      <th>Start_Lng</th>\n",
       "      <th>End_Lat</th>\n",
       "      <th>End_Lng</th>\n",
       "      <th>Distance(mi)</th>\n",
       "      <th>Description</th>\n",
       "      <th>...</th>\n",
       "      <th>Roundabout</th>\n",
       "      <th>Station</th>\n",
       "      <th>Stop</th>\n",
       "      <th>Traffic_Calming</th>\n",
       "      <th>Traffic_Signal</th>\n",
       "      <th>Turning_Loop</th>\n",
       "      <th>Sunrise_Sunset</th>\n",
       "      <th>Civil_Twilight</th>\n",
       "      <th>Nautical_Twilight</th>\n",
       "      <th>Astronomical_Twilight</th>\n",
       "    </tr>\n",
       "  </thead>\n",
       "  <tbody>\n",
       "    <tr>\n",
       "      <th>0</th>\n",
       "      <td>False</td>\n",
       "      <td>False</td>\n",
       "      <td>False</td>\n",
       "      <td>False</td>\n",
       "      <td>False</td>\n",
       "      <td>False</td>\n",
       "      <td>False</td>\n",
       "      <td>False</td>\n",
       "      <td>False</td>\n",
       "      <td>False</td>\n",
       "      <td>...</td>\n",
       "      <td>False</td>\n",
       "      <td>False</td>\n",
       "      <td>False</td>\n",
       "      <td>False</td>\n",
       "      <td>False</td>\n",
       "      <td>False</td>\n",
       "      <td>False</td>\n",
       "      <td>False</td>\n",
       "      <td>False</td>\n",
       "      <td>False</td>\n",
       "    </tr>\n",
       "    <tr>\n",
       "      <th>1</th>\n",
       "      <td>False</td>\n",
       "      <td>False</td>\n",
       "      <td>False</td>\n",
       "      <td>False</td>\n",
       "      <td>False</td>\n",
       "      <td>False</td>\n",
       "      <td>False</td>\n",
       "      <td>False</td>\n",
       "      <td>False</td>\n",
       "      <td>False</td>\n",
       "      <td>...</td>\n",
       "      <td>False</td>\n",
       "      <td>False</td>\n",
       "      <td>False</td>\n",
       "      <td>False</td>\n",
       "      <td>False</td>\n",
       "      <td>False</td>\n",
       "      <td>False</td>\n",
       "      <td>False</td>\n",
       "      <td>False</td>\n",
       "      <td>False</td>\n",
       "    </tr>\n",
       "    <tr>\n",
       "      <th>2</th>\n",
       "      <td>False</td>\n",
       "      <td>False</td>\n",
       "      <td>False</td>\n",
       "      <td>False</td>\n",
       "      <td>False</td>\n",
       "      <td>False</td>\n",
       "      <td>False</td>\n",
       "      <td>False</td>\n",
       "      <td>False</td>\n",
       "      <td>False</td>\n",
       "      <td>...</td>\n",
       "      <td>False</td>\n",
       "      <td>False</td>\n",
       "      <td>False</td>\n",
       "      <td>False</td>\n",
       "      <td>False</td>\n",
       "      <td>False</td>\n",
       "      <td>False</td>\n",
       "      <td>False</td>\n",
       "      <td>False</td>\n",
       "      <td>False</td>\n",
       "    </tr>\n",
       "    <tr>\n",
       "      <th>3</th>\n",
       "      <td>False</td>\n",
       "      <td>False</td>\n",
       "      <td>False</td>\n",
       "      <td>False</td>\n",
       "      <td>False</td>\n",
       "      <td>False</td>\n",
       "      <td>False</td>\n",
       "      <td>False</td>\n",
       "      <td>False</td>\n",
       "      <td>False</td>\n",
       "      <td>...</td>\n",
       "      <td>False</td>\n",
       "      <td>False</td>\n",
       "      <td>False</td>\n",
       "      <td>False</td>\n",
       "      <td>False</td>\n",
       "      <td>False</td>\n",
       "      <td>False</td>\n",
       "      <td>False</td>\n",
       "      <td>False</td>\n",
       "      <td>False</td>\n",
       "    </tr>\n",
       "    <tr>\n",
       "      <th>4</th>\n",
       "      <td>False</td>\n",
       "      <td>False</td>\n",
       "      <td>False</td>\n",
       "      <td>False</td>\n",
       "      <td>False</td>\n",
       "      <td>False</td>\n",
       "      <td>False</td>\n",
       "      <td>False</td>\n",
       "      <td>False</td>\n",
       "      <td>False</td>\n",
       "      <td>...</td>\n",
       "      <td>False</td>\n",
       "      <td>False</td>\n",
       "      <td>False</td>\n",
       "      <td>False</td>\n",
       "      <td>False</td>\n",
       "      <td>False</td>\n",
       "      <td>False</td>\n",
       "      <td>False</td>\n",
       "      <td>False</td>\n",
       "      <td>False</td>\n",
       "    </tr>\n",
       "    <tr>\n",
       "      <th>...</th>\n",
       "      <td>...</td>\n",
       "      <td>...</td>\n",
       "      <td>...</td>\n",
       "      <td>...</td>\n",
       "      <td>...</td>\n",
       "      <td>...</td>\n",
       "      <td>...</td>\n",
       "      <td>...</td>\n",
       "      <td>...</td>\n",
       "      <td>...</td>\n",
       "      <td>...</td>\n",
       "      <td>...</td>\n",
       "      <td>...</td>\n",
       "      <td>...</td>\n",
       "      <td>...</td>\n",
       "      <td>...</td>\n",
       "      <td>...</td>\n",
       "      <td>...</td>\n",
       "      <td>...</td>\n",
       "      <td>...</td>\n",
       "      <td>...</td>\n",
       "    </tr>\n",
       "    <tr>\n",
       "      <th>2845337</th>\n",
       "      <td>False</td>\n",
       "      <td>False</td>\n",
       "      <td>False</td>\n",
       "      <td>False</td>\n",
       "      <td>False</td>\n",
       "      <td>False</td>\n",
       "      <td>False</td>\n",
       "      <td>False</td>\n",
       "      <td>False</td>\n",
       "      <td>False</td>\n",
       "      <td>...</td>\n",
       "      <td>False</td>\n",
       "      <td>False</td>\n",
       "      <td>False</td>\n",
       "      <td>False</td>\n",
       "      <td>False</td>\n",
       "      <td>False</td>\n",
       "      <td>False</td>\n",
       "      <td>False</td>\n",
       "      <td>False</td>\n",
       "      <td>False</td>\n",
       "    </tr>\n",
       "    <tr>\n",
       "      <th>2845338</th>\n",
       "      <td>False</td>\n",
       "      <td>False</td>\n",
       "      <td>False</td>\n",
       "      <td>False</td>\n",
       "      <td>False</td>\n",
       "      <td>False</td>\n",
       "      <td>False</td>\n",
       "      <td>False</td>\n",
       "      <td>False</td>\n",
       "      <td>False</td>\n",
       "      <td>...</td>\n",
       "      <td>False</td>\n",
       "      <td>False</td>\n",
       "      <td>False</td>\n",
       "      <td>False</td>\n",
       "      <td>False</td>\n",
       "      <td>False</td>\n",
       "      <td>False</td>\n",
       "      <td>False</td>\n",
       "      <td>False</td>\n",
       "      <td>False</td>\n",
       "    </tr>\n",
       "    <tr>\n",
       "      <th>2845339</th>\n",
       "      <td>False</td>\n",
       "      <td>False</td>\n",
       "      <td>False</td>\n",
       "      <td>False</td>\n",
       "      <td>False</td>\n",
       "      <td>False</td>\n",
       "      <td>False</td>\n",
       "      <td>False</td>\n",
       "      <td>False</td>\n",
       "      <td>False</td>\n",
       "      <td>...</td>\n",
       "      <td>False</td>\n",
       "      <td>False</td>\n",
       "      <td>False</td>\n",
       "      <td>False</td>\n",
       "      <td>False</td>\n",
       "      <td>False</td>\n",
       "      <td>False</td>\n",
       "      <td>False</td>\n",
       "      <td>False</td>\n",
       "      <td>False</td>\n",
       "    </tr>\n",
       "    <tr>\n",
       "      <th>2845340</th>\n",
       "      <td>False</td>\n",
       "      <td>False</td>\n",
       "      <td>False</td>\n",
       "      <td>False</td>\n",
       "      <td>False</td>\n",
       "      <td>False</td>\n",
       "      <td>False</td>\n",
       "      <td>False</td>\n",
       "      <td>False</td>\n",
       "      <td>False</td>\n",
       "      <td>...</td>\n",
       "      <td>False</td>\n",
       "      <td>False</td>\n",
       "      <td>False</td>\n",
       "      <td>False</td>\n",
       "      <td>False</td>\n",
       "      <td>False</td>\n",
       "      <td>False</td>\n",
       "      <td>False</td>\n",
       "      <td>False</td>\n",
       "      <td>False</td>\n",
       "    </tr>\n",
       "    <tr>\n",
       "      <th>2845341</th>\n",
       "      <td>False</td>\n",
       "      <td>False</td>\n",
       "      <td>False</td>\n",
       "      <td>False</td>\n",
       "      <td>False</td>\n",
       "      <td>False</td>\n",
       "      <td>False</td>\n",
       "      <td>False</td>\n",
       "      <td>False</td>\n",
       "      <td>False</td>\n",
       "      <td>...</td>\n",
       "      <td>False</td>\n",
       "      <td>False</td>\n",
       "      <td>False</td>\n",
       "      <td>False</td>\n",
       "      <td>False</td>\n",
       "      <td>False</td>\n",
       "      <td>False</td>\n",
       "      <td>False</td>\n",
       "      <td>False</td>\n",
       "      <td>False</td>\n",
       "    </tr>\n",
       "  </tbody>\n",
       "</table>\n",
       "<p>2845342 rows × 47 columns</p>\n",
       "</div>\n",
       "      <button class=\"colab-df-convert\" onclick=\"convertToInteractive('df-d232bced-6d3f-4f28-9059-447f81818229')\"\n",
       "              title=\"Convert this dataframe to an interactive table.\"\n",
       "              style=\"display:none;\">\n",
       "        \n",
       "  <svg xmlns=\"http://www.w3.org/2000/svg\" height=\"24px\"viewBox=\"0 0 24 24\"\n",
       "       width=\"24px\">\n",
       "    <path d=\"M0 0h24v24H0V0z\" fill=\"none\"/>\n",
       "    <path d=\"M18.56 5.44l.94 2.06.94-2.06 2.06-.94-2.06-.94-.94-2.06-.94 2.06-2.06.94zm-11 1L8.5 8.5l.94-2.06 2.06-.94-2.06-.94L8.5 2.5l-.94 2.06-2.06.94zm10 10l.94 2.06.94-2.06 2.06-.94-2.06-.94-.94-2.06-.94 2.06-2.06.94z\"/><path d=\"M17.41 7.96l-1.37-1.37c-.4-.4-.92-.59-1.43-.59-.52 0-1.04.2-1.43.59L10.3 9.45l-7.72 7.72c-.78.78-.78 2.05 0 2.83L4 21.41c.39.39.9.59 1.41.59.51 0 1.02-.2 1.41-.59l7.78-7.78 2.81-2.81c.8-.78.8-2.07 0-2.86zM5.41 20L4 18.59l7.72-7.72 1.47 1.35L5.41 20z\"/>\n",
       "  </svg>\n",
       "      </button>\n",
       "      \n",
       "  <style>\n",
       "    .colab-df-container {\n",
       "      display:flex;\n",
       "      flex-wrap:wrap;\n",
       "      gap: 12px;\n",
       "    }\n",
       "\n",
       "    .colab-df-convert {\n",
       "      background-color: #E8F0FE;\n",
       "      border: none;\n",
       "      border-radius: 50%;\n",
       "      cursor: pointer;\n",
       "      display: none;\n",
       "      fill: #1967D2;\n",
       "      height: 32px;\n",
       "      padding: 0 0 0 0;\n",
       "      width: 32px;\n",
       "    }\n",
       "\n",
       "    .colab-df-convert:hover {\n",
       "      background-color: #E2EBFA;\n",
       "      box-shadow: 0px 1px 2px rgba(60, 64, 67, 0.3), 0px 1px 3px 1px rgba(60, 64, 67, 0.15);\n",
       "      fill: #174EA6;\n",
       "    }\n",
       "\n",
       "    [theme=dark] .colab-df-convert {\n",
       "      background-color: #3B4455;\n",
       "      fill: #D2E3FC;\n",
       "    }\n",
       "\n",
       "    [theme=dark] .colab-df-convert:hover {\n",
       "      background-color: #434B5C;\n",
       "      box-shadow: 0px 1px 3px 1px rgba(0, 0, 0, 0.15);\n",
       "      filter: drop-shadow(0px 1px 2px rgba(0, 0, 0, 0.3));\n",
       "      fill: #FFFFFF;\n",
       "    }\n",
       "  </style>\n",
       "\n",
       "      <script>\n",
       "        const buttonEl =\n",
       "          document.querySelector('#df-d232bced-6d3f-4f28-9059-447f81818229 button.colab-df-convert');\n",
       "        buttonEl.style.display =\n",
       "          google.colab.kernel.accessAllowed ? 'block' : 'none';\n",
       "\n",
       "        async function convertToInteractive(key) {\n",
       "          const element = document.querySelector('#df-d232bced-6d3f-4f28-9059-447f81818229');\n",
       "          const dataTable =\n",
       "            await google.colab.kernel.invokeFunction('convertToInteractive',\n",
       "                                                     [key], {});\n",
       "          if (!dataTable) return;\n",
       "\n",
       "          const docLinkHtml = 'Like what you see? Visit the ' +\n",
       "            '<a target=\"_blank\" href=https://colab.research.google.com/notebooks/data_table.ipynb>data table notebook</a>'\n",
       "            + ' to learn more about interactive tables.';\n",
       "          element.innerHTML = '';\n",
       "          dataTable['output_type'] = 'display_data';\n",
       "          await google.colab.output.renderOutput(dataTable, element);\n",
       "          const docLink = document.createElement('div');\n",
       "          docLink.innerHTML = docLinkHtml;\n",
       "          element.appendChild(docLink);\n",
       "        }\n",
       "      </script>\n",
       "    </div>\n",
       "  </div>\n",
       "  "
      ],
      "text/plain": [
       "            ID  Severity  Start_Time  End_Time  Start_Lat  Start_Lng  End_Lat  \\\n",
       "0        False     False       False     False      False      False    False   \n",
       "1        False     False       False     False      False      False    False   \n",
       "2        False     False       False     False      False      False    False   \n",
       "3        False     False       False     False      False      False    False   \n",
       "4        False     False       False     False      False      False    False   \n",
       "...        ...       ...         ...       ...        ...        ...      ...   \n",
       "2845337  False     False       False     False      False      False    False   \n",
       "2845338  False     False       False     False      False      False    False   \n",
       "2845339  False     False       False     False      False      False    False   \n",
       "2845340  False     False       False     False      False      False    False   \n",
       "2845341  False     False       False     False      False      False    False   \n",
       "\n",
       "         End_Lng  Distance(mi)  Description  ...  Roundabout  Station   Stop  \\\n",
       "0          False         False        False  ...       False    False  False   \n",
       "1          False         False        False  ...       False    False  False   \n",
       "2          False         False        False  ...       False    False  False   \n",
       "3          False         False        False  ...       False    False  False   \n",
       "4          False         False        False  ...       False    False  False   \n",
       "...          ...           ...          ...  ...         ...      ...    ...   \n",
       "2845337    False         False        False  ...       False    False  False   \n",
       "2845338    False         False        False  ...       False    False  False   \n",
       "2845339    False         False        False  ...       False    False  False   \n",
       "2845340    False         False        False  ...       False    False  False   \n",
       "2845341    False         False        False  ...       False    False  False   \n",
       "\n",
       "         Traffic_Calming  Traffic_Signal  Turning_Loop  Sunrise_Sunset  \\\n",
       "0                  False           False         False           False   \n",
       "1                  False           False         False           False   \n",
       "2                  False           False         False           False   \n",
       "3                  False           False         False           False   \n",
       "4                  False           False         False           False   \n",
       "...                  ...             ...           ...             ...   \n",
       "2845337            False           False         False           False   \n",
       "2845338            False           False         False           False   \n",
       "2845339            False           False         False           False   \n",
       "2845340            False           False         False           False   \n",
       "2845341            False           False         False           False   \n",
       "\n",
       "         Civil_Twilight  Nautical_Twilight  Astronomical_Twilight  \n",
       "0                 False              False                  False  \n",
       "1                 False              False                  False  \n",
       "2                 False              False                  False  \n",
       "3                 False              False                  False  \n",
       "4                 False              False                  False  \n",
       "...                 ...                ...                    ...  \n",
       "2845337           False              False                  False  \n",
       "2845338           False              False                  False  \n",
       "2845339           False              False                  False  \n",
       "2845340           False              False                  False  \n",
       "2845341           False              False                  False  \n",
       "\n",
       "[2845342 rows x 47 columns]"
      ]
     },
     "execution_count": 48,
     "metadata": {},
     "output_type": "execute_result"
    }
   ],
   "source": [
    "df.isna()\n",
    "# in order to  check the missing values"
   ]
  },
  {
   "cell_type": "markdown",
   "metadata": {
    "id": "9EKcSEgb0SPX"
   },
   "source": [
    "percentage of missing values per column"
   ]
  },
  {
   "cell_type": "code",
   "execution_count": null,
   "metadata": {
    "colab": {
     "base_uri": "https://localhost:8080/"
    },
    "id": "TJI2AkyHLGKA",
    "outputId": "7a5142d2-389e-4c13-b99c-b19fccf40457"
   },
   "outputs": [
    {
     "data": {
      "text/plain": [
       "Number                   6.129003e-01\n",
       "Precipitation(in)        1.931079e-01\n",
       "Wind_Chill(F)            1.650568e-01\n",
       "Wind_Speed(mph)          5.550967e-02\n",
       "Wind_Direction           2.592834e-02\n",
       "Humidity(%)              2.568830e-02\n",
       "Weather_Condition        2.482514e-02\n",
       "Visibility(mi)           2.479350e-02\n",
       "Temperature(F)           2.434646e-02\n",
       "Pressure(in)             2.080593e-02\n",
       "Weather_Timestamp        1.783125e-02\n",
       "Airport_Code             3.356011e-03\n",
       "Timezone                 1.285961e-03\n",
       "Nautical_Twilight        1.007612e-03\n",
       "Civil_Twilight           1.007612e-03\n",
       "Sunrise_Sunset           1.007612e-03\n",
       "Astronomical_Twilight    1.007612e-03\n",
       "Zipcode                  4.635647e-04\n",
       "City                     4.814887e-05\n",
       "Street                   7.029032e-07\n",
       "Country                  0.000000e+00\n",
       "Junction                 0.000000e+00\n",
       "Start_Time               0.000000e+00\n",
       "End_Time                 0.000000e+00\n",
       "Start_Lat                0.000000e+00\n",
       "Turning_Loop             0.000000e+00\n",
       "Traffic_Signal           0.000000e+00\n",
       "Traffic_Calming          0.000000e+00\n",
       "Stop                     0.000000e+00\n",
       "Station                  0.000000e+00\n",
       "Roundabout               0.000000e+00\n",
       "Railway                  0.000000e+00\n",
       "No_Exit                  0.000000e+00\n",
       "Crossing                 0.000000e+00\n",
       "Give_Way                 0.000000e+00\n",
       "Bump                     0.000000e+00\n",
       "Amenity                  0.000000e+00\n",
       "Start_Lng                0.000000e+00\n",
       "End_Lat                  0.000000e+00\n",
       "End_Lng                  0.000000e+00\n",
       "Distance(mi)             0.000000e+00\n",
       "Description              0.000000e+00\n",
       "Severity                 0.000000e+00\n",
       "Side                     0.000000e+00\n",
       "County                   0.000000e+00\n",
       "State                    0.000000e+00\n",
       "ID                       0.000000e+00\n",
       "dtype: float64"
      ]
     },
     "execution_count": 49,
     "metadata": {},
     "output_type": "execute_result"
    }
   ],
   "source": [
    "missing_percentages=df.isna().sum().sort_values(ascending=False)/len(df)\n",
    "missing_percentages\n",
    "# total missing values in a particular cell\n",
    "# we also get the missing percentage"
   ]
  },
  {
   "cell_type": "code",
   "execution_count": null,
   "metadata": {
    "colab": {
     "base_uri": "https://localhost:8080/"
    },
    "id": "zntdW87sz67D",
    "outputId": "63f7afe3-5cdd-4ced-df8e-0120d2b62d31"
   },
   "outputs": [
    {
     "data": {
      "text/plain": [
       "Number                   6.129003e-01\n",
       "Precipitation(in)        1.931079e-01\n",
       "Wind_Chill(F)            1.650568e-01\n",
       "Wind_Speed(mph)          5.550967e-02\n",
       "Wind_Direction           2.592834e-02\n",
       "Humidity(%)              2.568830e-02\n",
       "Weather_Condition        2.482514e-02\n",
       "Visibility(mi)           2.479350e-02\n",
       "Temperature(F)           2.434646e-02\n",
       "Pressure(in)             2.080593e-02\n",
       "Weather_Timestamp        1.783125e-02\n",
       "Airport_Code             3.356011e-03\n",
       "Timezone                 1.285961e-03\n",
       "Nautical_Twilight        1.007612e-03\n",
       "Civil_Twilight           1.007612e-03\n",
       "Sunrise_Sunset           1.007612e-03\n",
       "Astronomical_Twilight    1.007612e-03\n",
       "Zipcode                  4.635647e-04\n",
       "City                     4.814887e-05\n",
       "Street                   7.029032e-07\n",
       "dtype: float64"
      ]
     },
     "execution_count": 50,
     "metadata": {},
     "output_type": "execute_result"
    }
   ],
   "source": [
    "\n",
    "missing_percentages[missing_percentages!=0]"
   ]
  },
  {
   "cell_type": "code",
   "execution_count": null,
   "metadata": {
    "colab": {
     "base_uri": "https://localhost:8080/",
     "height": 265
    },
    "id": "NA_wgnd5Gufl",
    "outputId": "88fe8b3b-6910-47e9-ef4d-bc0a292794bf"
   },
   "outputs": [
    {
     "data": {
      "image/png": "[encoded data removed]",
      "text/plain": [
       "<Figure size 432x288 with 1 Axes>"
      ]
     },
     "metadata": {},
     "output_type": "display_data"
    }
   ],
   "source": [
    "missing_percentages[missing_percentages!=0].plot(kind=\"barh\");"
   ]
  },
  {
   "cell_type": "markdown",
   "metadata": {
    "id": "u8BmY1QdJAp3"
   },
   "source": [
    "Remove the columns that you don't want to use."
   ]
  },
  {
   "cell_type": "code",
   "execution_count": null,
   "metadata": {
    "id": "134qiL0ZLuSy"
   },
   "outputs": [],
   "source": []
  },
  {
   "cell_type": "markdown",
   "metadata": {
    "id": "cQl4a-SpLwKV"
   },
   "source": [
    "**Exploratory analysis and visualisation**\n",
    "\n",
    "columns we'll analyze\n",
    "\n",
    "1.city\n",
    "\n",
    "2.start time\n",
    "\n",
    "3.start Lat,start Long\n",
    "\n",
    "4.Temperature\n",
    "\n",
    "5.weather condition"
   ]
  },
  {
   "cell_type": "code",
   "execution_count": null,
   "metadata": {
    "colab": {
     "base_uri": "https://localhost:8080/"
    },
    "id": "wlUW8d1vLuNc",
    "outputId": "cb393341-7d74-48ff-a264-6786adb25c32"
   },
   "outputs": [
    {
     "data": {
      "text/plain": [
       "Index(['ID', 'Severity', 'Start_Time', 'End_Time', 'Start_Lat', 'Start_Lng',\n",
       "       'End_Lat', 'End_Lng', 'Distance(mi)', 'Description', 'Number', 'Street',\n",
       "       'Side', 'City', 'County', 'State', 'Zipcode', 'Country', 'Timezone',\n",
       "       'Airport_Code', 'Weather_Timestamp', 'Temperature(F)', 'Wind_Chill(F)',\n",
       "       'Humidity(%)', 'Pressure(in)', 'Visibility(mi)', 'Wind_Direction',\n",
       "       'Wind_Speed(mph)', 'Precipitation(in)', 'Weather_Condition', 'Amenity',\n",
       "       'Bump', 'Crossing', 'Give_Way', 'Junction', 'No_Exit', 'Railway',\n",
       "       'Roundabout', 'Station', 'Stop', 'Traffic_Calming', 'Traffic_Signal',\n",
       "       'Turning_Loop', 'Sunrise_Sunset', 'Civil_Twilight', 'Nautical_Twilight',\n",
       "       'Astronomical_Twilight'],\n",
       "      dtype='object')"
      ]
     },
     "execution_count": 52,
     "metadata": {},
     "output_type": "execute_result"
    }
   ],
   "source": [
    "df.columns"
   ]
  },
  {
   "cell_type": "code",
   "execution_count": null,
   "metadata": {
    "colab": {
     "base_uri": "https://localhost:8080/"
    },
    "id": "b1sVXwDrIf_i",
    "outputId": "b187a284-4e9b-4688-ee47-aacefb8b12f3"
   },
   "outputs": [
    {
     "data": {
      "text/plain": [
       "array(['Dublin', 'Dayton', 'Cincinnati', ..., 'Clarksdale', 'Bridgeboro',\n",
       "       'American Fork-Pleasant Grove'], dtype=object)"
      ]
     },
     "execution_count": 53,
     "metadata": {},
     "output_type": "execute_result"
    }
   ],
   "source": [
    "df.City.unique()"
   ]
  },
  {
   "cell_type": "code",
   "execution_count": null,
   "metadata": {
    "colab": {
     "base_uri": "https://localhost:8080/"
    },
    "id": "zyzkDi3hMygi",
    "outputId": "50cfc596-342a-4a98-adcf-10e205847c39"
   },
   "outputs": [
    {
     "data": {
      "text/plain": [
       "11682"
      ]
     },
     "execution_count": 54,
     "metadata": {},
     "output_type": "execute_result"
    }
   ],
   "source": [
    "len(df.City.unique())"
   ]
  },
  {
   "cell_type": "code",
   "execution_count": null,
   "metadata": {
    "colab": {
     "base_uri": "https://localhost:8080/"
    },
    "id": "H-OrKHwJNH6a",
    "outputId": "61c50790-5107-4c75-b859-ce332f9e3c14"
   },
   "outputs": [
    {
     "data": {
      "text/plain": [
       "array(['Dublin', 'Dayton', 'Cincinnati', 'Akron', 'Williamsburg',\n",
       "       'Cleveland', 'Lima', 'Westerville', 'Jamestown', 'Freeport',\n",
       "       'Columbus', 'Toledo', 'Roanoke', 'Ft Mitchell', 'Edinburgh',\n",
       "       'Fairborn', 'Shelbyville', 'Greensburg', 'Saint Paul',\n",
       "       'Parkersburg', 'Indianapolis', 'Dundee', 'Jeffersonville',\n",
       "       'Pittsburgh', 'Lewis Center', 'Dunkirk', 'Redkey', 'Milton',\n",
       "       'Willshire', 'Straughn', 'Cambridge Springs', 'Fremont',\n",
       "       'Louisville', 'South Charleston', 'Edinboro', 'Buckhannon',\n",
       "       'Lockbourne', 'Painesville', 'Washington', 'Dunbar', 'Angola',\n",
       "       'Edon', 'Medina', 'De Mossville', 'New Albany', 'Charleston',\n",
       "       'Fort Wayne', 'Burnsville', 'Bedford', 'Clarksville', 'Lakewood',\n",
       "       'Richfield', 'Sewickley', 'Independence', 'Westlake', 'Erlanger',\n",
       "       'Grove City', 'Monroe', 'West Middlesex', 'Gaston', 'Economy',\n",
       "       'Fairmount', 'Hagerstown', 'Walton', 'Crittenden', 'Coraopolis',\n",
       "       'Holland', 'Greenfield', 'Anderson', 'Englewood', 'Knightstown',\n",
       "       'Bentleyville', 'Memphis', 'Henryville', 'Kendallville', 'Avilla',\n",
       "       'Ohio City', 'Van Wert', 'Rocky River', 'Sturgis', 'West Chester',\n",
       "       'Orient', 'Madison', 'Deputy', 'Keystone', 'Mercer', 'Bryant',\n",
       "       'Pennville', 'Kimbolton', 'Thornville', 'Wexford', 'Fishers',\n",
       "       'Noblesville', 'Macedonia', 'Youngstown', 'Fairdale', 'Sutton',\n",
       "       'Mount Sterling', 'Northwood', 'Huntington'], dtype=object)"
      ]
     },
     "execution_count": 55,
     "metadata": {},
     "output_type": "execute_result"
    }
   ],
   "source": [
    "cities=df.City.unique()\n",
    "cities[:100]"
   ]
  },
  {
   "cell_type": "code",
   "execution_count": null,
   "metadata": {
    "colab": {
     "base_uri": "https://localhost:8080/"
    },
    "id": "EFoWpRpINQda",
    "outputId": "6b2f9de1-e52c-43ed-f2db-11927f7bee73"
   },
   "outputs": [
    {
     "data": {
      "text/plain": [
       "Miami                           106966\n",
       "Los Angeles                      68956\n",
       "Orlando                          54691\n",
       "Dallas                           41979\n",
       "Houston                          39448\n",
       "                                 ...  \n",
       "Ridgedale                            1\n",
       "Sekiu                                1\n",
       "Wooldridge                           1\n",
       "Bullock                              1\n",
       "American Fork-Pleasant Grove         1\n",
       "Name: City, Length: 11681, dtype: int64"
      ]
     },
     "execution_count": 56,
     "metadata": {},
     "output_type": "execute_result"
    }
   ],
   "source": [
    "cities_by_accident=df.City.value_counts()\n",
    "cities_by_accident\n",
    "# here we have calculated no.of accidents per city"
   ]
  },
  {
   "cell_type": "code",
   "execution_count": null,
   "metadata": {
    "id": "Ysa5y-rFQwyq"
   },
   "outputs": [],
   "source": [
    "import seaborn as sns\n",
    "sns.set_style(\"darkgrid\");"
   ]
  },
  {
   "cell_type": "code",
   "execution_count": null,
   "metadata": {
    "colab": {
     "base_uri": "https://localhost:8080/",
     "height": 334
    },
    "id": "Iwmw7RDAQwub",
    "outputId": "f0c7f16a-19f9-4c52-e289-b1c856c86a08"
   },
   "outputs": [
    {
     "name": "stderr",
     "output_type": "stream",
     "text": [
      "/usr/local/lib/python3.7/dist-packages/seaborn/distributions.py:2619: FutureWarning: `distplot` is a deprecated function and will be removed in a future version. Please adapt your code to use either `displot` (a figure-level function with similar flexibility) or `histplot` (an axes-level function for histograms).\n",
      "  warnings.warn(msg, FutureWarning)\n"
     ]
    },
    {
     "data": {
      "image/png": "[encoded data removed]",
      "text/plain": [
       "<Figure size 432x288 with 1 Axes>"
      ]
     },
     "metadata": {},
     "output_type": "display_data"
    }
   ],
   "source": [
    "sns.distplot(cities_by_accident);"
   ]
  },
  {
   "cell_type": "code",
   "execution_count": null,
   "metadata": {
    "id": "DTqYSlE-Qwp6"
   },
   "outputs": [],
   "source": [
    "high_accident_cities=cities_by_accident[cities_by_accident >=10000]\n",
    "low_accident_cities=cities_by_accident[cities_by_accident <10000]"
   ]
  },
  {
   "cell_type": "code",
   "execution_count": null,
   "metadata": {
    "colab": {
     "base_uri": "https://localhost:8080/"
    },
    "id": "UgIi12ojQwlx",
    "outputId": "f0028b6e-b3bf-49f3-f83f-118b8cfcedc0"
   },
   "outputs": [
    {
     "data": {
      "text/plain": [
       "34"
      ]
     },
     "execution_count": 60,
     "metadata": {},
     "output_type": "execute_result"
    }
   ],
   "source": [
    "len(high_accident_cities)"
   ]
  },
  {
   "cell_type": "code",
   "execution_count": null,
   "metadata": {
    "colab": {
     "base_uri": "https://localhost:8080/",
     "height": 283
    },
    "id": "WSmGZLHFPpLT",
    "outputId": "dd0e5258-1cf3-449c-cf1a-73826d68ae02"
   },
   "outputs": [
    {
     "data": {
      "image/png": "[encoded data removed]",
      "text/plain": [
       "<Figure size 432x288 with 1 Axes>"
      ]
     },
     "metadata": {},
     "output_type": "display_data"
    }
   ],
   "source": [
    "sns.histplot(high_accident_cities,log_scale=True);"
   ]
  },
  {
   "cell_type": "code",
   "execution_count": null,
   "metadata": {
    "colab": {
     "base_uri": "https://localhost:8080/"
    },
    "id": "YcsHQdBfWsF-",
    "outputId": "b4d823ad-28a4-4c89-dc4b-a54328dae75a"
   },
   "outputs": [
    {
     "data": {
      "text/plain": [
       "Newfane            5\n",
       "Zion Crossroads    5\n",
       "Licking            5\n",
       "Morrisonville      5\n",
       "Uvalde             5\n",
       "                  ..\n",
       "Mc Kinnon          5\n",
       "Outing             5\n",
       "Jenkins            5\n",
       "Milanville         5\n",
       "Wawaka             5\n",
       "Name: City, Length: 370, dtype: int64"
      ]
     },
     "execution_count": 62,
     "metadata": {},
     "output_type": "execute_result"
    }
   ],
   "source": [
    "\n",
    "cities_by_accident[cities_by_accident==5]"
   ]
  },
  {
   "cell_type": "markdown",
   "metadata": {
    "id": "NXZ3n5YGbV-d"
   },
   "source": [
    "Start Time"
   ]
  },
  {
   "cell_type": "code",
   "execution_count": null,
   "metadata": {
    "colab": {
     "base_uri": "https://localhost:8080/"
    },
    "id": "Z8vIgmKBYVNv",
    "outputId": "a491bea3-61b3-4c00-bde4-1c8bcfb4ded4"
   },
   "outputs": [
    {
     "data": {
      "text/plain": [
       "0          2016-02-08 00:37:08\n",
       "1          2016-02-08 05:56:20\n",
       "2          2016-02-08 06:15:39\n",
       "3          2016-02-08 06:51:45\n",
       "4          2016-02-08 07:53:43\n",
       "                  ...         \n",
       "2845337    2019-08-23 18:03:25\n",
       "2845338    2019-08-23 19:11:30\n",
       "2845339    2019-08-23 19:00:21\n",
       "2845340    2019-08-23 19:00:21\n",
       "2845341    2019-08-23 18:52:06\n",
       "Name: Start_Time, Length: 2845342, dtype: object"
      ]
     },
     "execution_count": 19,
     "metadata": {},
     "output_type": "execute_result"
    }
   ],
   "source": [
    "df.Start_Time"
   ]
  },
  {
   "cell_type": "code",
   "execution_count": null,
   "metadata": {
    "colab": {
     "base_uri": "https://localhost:8080/",
     "height": 35
    },
    "id": "oGF8htUlbeSY",
    "outputId": "e802bdcc-8bf4-4ed9-daeb-2b39e9954be7"
   },
   "outputs": [
    {
     "data": {
      "application/vnd.google.colaboratory.intrinsic+json": {
       "type": "string"
      },
      "text/plain": [
       "'2016-02-08 00:37:08'"
      ]
     },
     "execution_count": 20,
     "metadata": {},
     "output_type": "execute_result"
    }
   ],
   "source": [
    "df.Start_Time[0]"
   ]
  },
  {
   "cell_type": "code",
   "execution_count": null,
   "metadata": {
    "colab": {
     "base_uri": "https://localhost:8080/"
    },
    "id": "yINp6sgwbz-Z",
    "outputId": "67a6b60d-56ed-43ab-d102-031a55a02cf6"
   },
   "outputs": [
    {
     "data": {
      "text/plain": [
       "0         2016-02-08 00:37:08\n",
       "1         2016-02-08 05:56:20\n",
       "2         2016-02-08 06:15:39\n",
       "3         2016-02-08 06:51:45\n",
       "4         2016-02-08 07:53:43\n",
       "                  ...        \n",
       "2845337   2019-08-23 18:03:25\n",
       "2845338   2019-08-23 19:11:30\n",
       "2845339   2019-08-23 19:00:21\n",
       "2845340   2019-08-23 19:00:21\n",
       "2845341   2019-08-23 18:52:06\n",
       "Name: Start_Time, Length: 2845342, dtype: datetime64[ns]"
      ]
     },
     "execution_count": 66,
     "metadata": {},
     "output_type": "execute_result"
    }
   ],
   "source": [
    "my_time=pd.to_datetime(df.Start_Time)\n",
    "my_time"
   ]
  },
  {
   "cell_type": "code",
   "execution_count": null,
   "metadata": {
    "colab": {
     "base_uri": "https://localhost:8080/"
    },
    "id": "Z7fV0r_tcBAE",
    "outputId": "4e28e3be-7df8-42fc-d474-4a1fb154f918"
   },
   "outputs": [
    {
     "data": {
      "text/plain": [
       "18"
      ]
     },
     "execution_count": 67,
     "metadata": {},
     "output_type": "execute_result"
    }
   ],
   "source": [
    "my_time[2222222].hour\n",
    "# we can get the exact hour of that serial number"
   ]
  },
  {
   "cell_type": "code",
   "execution_count": null,
   "metadata": {
    "colab": {
     "base_uri": "https://localhost:8080/"
    },
    "id": "YM1xTaStQ-VL",
    "outputId": "05c66fb3-d409-4347-fe67-ae8513b035ea"
   },
   "outputs": [
    {
     "data": {
      "text/plain": [
       "51"
      ]
     },
     "execution_count": 68,
     "metadata": {},
     "output_type": "execute_result"
    }
   ],
   "source": [
    "my_time[3].minute\n",
    "# we can get the exact minutes of that serial number"
   ]
  },
  {
   "cell_type": "code",
   "execution_count": null,
   "metadata": {
    "colab": {
     "base_uri": "https://localhost:8080/"
    },
    "id": "DfEv0nOjRTlg",
    "outputId": "1f1f5a67-35f2-4588-e6a1-0897582fad23"
   },
   "outputs": [
    {
     "data": {
      "text/plain": [
       "0           0\n",
       "1           5\n",
       "2           6\n",
       "3           6\n",
       "4           7\n",
       "           ..\n",
       "2845337    18\n",
       "2845338    19\n",
       "2845339    19\n",
       "2845340    19\n",
       "2845341    18\n",
       "Name: Start_Time, Length: 2845342, dtype: int64"
      ]
     },
     "execution_count": 69,
     "metadata": {},
     "output_type": "execute_result"
    }
   ],
   "source": [
    "my_time.dt.hour"
   ]
  },
  {
   "cell_type": "code",
   "execution_count": null,
   "metadata": {
    "colab": {
     "base_uri": "https://localhost:8080/",
     "height": 280
    },
    "id": "sY7X5b2UR1sJ",
    "outputId": "82e2a87c-a555-469d-9232-2378156e4a93"
   },
   "outputs": [
    {
     "data": {
      "image/png": "[encoded data removed]",
      "text/plain": [
       "<Figure size 432x288 with 1 Axes>"
      ]
     },
     "metadata": {},
     "output_type": "display_data"
    }
   ],
   "source": [
    "sns.histplot(my_time.dt.hour,bins=24);"
   ]
  },
  {
   "cell_type": "markdown",
   "metadata": {
    "id": "tBXdZtltTQ6g"
   },
   "source": [
    "A large number of accidents happen in the time zone of 3-5,that's where most of the people leave from work  to their house"
   ]
  },
  {
   "cell_type": "code",
   "execution_count": null,
   "metadata": {
    "colab": {
     "base_uri": "https://localhost:8080/",
     "height": 335
    },
    "id": "uGmesLjdR_E3",
    "outputId": "d34e44f0-0fa0-4598-c95c-89c272be7c00"
   },
   "outputs": [
    {
     "name": "stderr",
     "output_type": "stream",
     "text": [
      "/usr/local/lib/python3.7/dist-packages/seaborn/distributions.py:2619: FutureWarning: `distplot` is a deprecated function and will be removed in a future version. Please adapt your code to use either `displot` (a figure-level function with similar flexibility) or `histplot` (an axes-level function for histograms).\n",
      "  warnings.warn(msg, FutureWarning)\n"
     ]
    },
    {
     "data": {
      "image/png": "[encoded data removed]",
      "text/plain": [
       "<Figure size 432x288 with 1 Axes>"
      ]
     },
     "metadata": {},
     "output_type": "display_data"
    }
   ],
   "source": [
    "sns.distplot(my_time.dt.hour,bins=24,norm_hist=True,kde=False);"
   ]
  },
  {
   "cell_type": "code",
   "execution_count": null,
   "metadata": {
    "colab": {
     "base_uri": "https://localhost:8080/",
     "height": 335
    },
    "id": "cGFzoMt4SY8i",
    "outputId": "e275e434-6ad4-492d-8c34-185b13b39775"
   },
   "outputs": [
    {
     "name": "stderr",
     "output_type": "stream",
     "text": [
      "/usr/local/lib/python3.7/dist-packages/seaborn/distributions.py:2619: FutureWarning: `distplot` is a deprecated function and will be removed in a future version. Please adapt your code to use either `displot` (a figure-level function with similar flexibility) or `histplot` (an axes-level function for histograms).\n",
      "  warnings.warn(msg, FutureWarning)\n"
     ]
    },
    {
     "data": {
      "image/png": "[encoded data removed]",
      "text/plain": [
       "<Figure size 432x288 with 1 Axes>"
      ]
     },
     "metadata": {},
     "output_type": "display_data"
    }
   ],
   "source": [
    "sns.distplot(my_time.dt.dayofweek,bins=7,kde=False,norm_hist=False);\n",
    "# here we can see that  occur mostly on 4th day of the week"
   ]
  },
  {
   "cell_type": "code",
   "execution_count": null,
   "metadata": {
    "colab": {
     "base_uri": "https://localhost:8080/"
    },
    "id": "tHuVs-SOgVCW",
    "outputId": "37b7e88c-0057-4c78-b42c-90d52804e0bd"
   },
   "outputs": [
    {
     "data": {
      "text/plain": [
       "154       2016-02-14 03:58:33\n",
       "155       2016-02-14 05:26:58\n",
       "156       2016-02-14 16:30:40\n",
       "157       2016-02-14 16:38:40\n",
       "158       2016-02-14 17:40:17\n",
       "                  ...        \n",
       "2843129   2019-08-18 22:48:14\n",
       "2843130   2019-08-18 23:24:10\n",
       "2843243   2019-08-18 22:56:56\n",
       "2843244   2019-08-18 22:56:56\n",
       "2843282   2019-08-18 22:54:41\n",
       "Name: Start_Time, Length: 259274, dtype: datetime64[ns]"
      ]
     },
     "execution_count": 84,
     "metadata": {},
     "output_type": "execute_result"
    }
   ],
   "source": [
    "sundays_start_time=my_time[my_time.dt.dayofweek==6];\n",
    "sundays_start_time"
   ]
  },
  {
   "cell_type": "code",
   "execution_count": null,
   "metadata": {
    "colab": {
     "base_uri": "https://localhost:8080/",
     "height": 335
    },
    "id": "53ZMUWgbhFlx",
    "outputId": "23ae7b46-09b8-4a3b-d224-c0c37ad71531"
   },
   "outputs": [
    {
     "name": "stderr",
     "output_type": "stream",
     "text": [
      "/usr/local/lib/python3.7/dist-packages/seaborn/distributions.py:2619: FutureWarning: `distplot` is a deprecated function and will be removed in a future version. Please adapt your code to use either `displot` (a figure-level function with similar flexibility) or `histplot` (an axes-level function for histograms).\n",
      "  warnings.warn(msg, FutureWarning)\n"
     ]
    },
    {
     "data": {
      "image/png": "[encoded data removed]",
      "text/plain": [
       "<Figure size 432x288 with 1 Axes>"
      ]
     },
     "metadata": {},
     "output_type": "display_data"
    }
   ],
   "source": [
    "sns.distplot(my_time.dt.month,bins=12,kde=False,norm_hist=True);"
   ]
  },
  {
   "cell_type": "code",
   "execution_count": null,
   "metadata": {
    "colab": {
     "base_uri": "https://localhost:8080/"
    },
    "id": "9z36KGpzn-ox",
    "outputId": "2cc35e5a-d27f-494e-ec2b-0bb8af899348"
   },
   "outputs": [
    {
     "data": {
      "text/plain": [
       "0         2016-02-08 00:37:08\n",
       "1         2016-02-08 05:56:20\n",
       "2         2016-02-08 06:15:39\n",
       "3         2016-02-08 06:51:45\n",
       "4         2016-02-08 07:53:43\n",
       "                  ...        \n",
       "2845337   2019-08-23 18:03:25\n",
       "2845338   2019-08-23 19:11:30\n",
       "2845339   2019-08-23 19:00:21\n",
       "2845340   2019-08-23 19:00:21\n",
       "2845341   2019-08-23 18:52:06\n",
       "Name: Start_Time, Length: 2845342, dtype: datetime64[ns]"
      ]
     },
     "execution_count": 102,
     "metadata": {},
     "output_type": "execute_result"
    }
   ],
   "source": [
    "my_time"
   ]
  },
  {
   "cell_type": "code",
   "execution_count": null,
   "metadata": {
    "colab": {
     "base_uri": "https://localhost:8080/"
    },
    "id": "ECQ5ofa5rlM6",
    "outputId": "f1ddb5e8-6e10-46c6-e7c0-72d9bcc5bb7c"
   },
   "outputs": [
    {
     "data": {
      "text/plain": [
       "0          40.108910\n",
       "1          39.865420\n",
       "2          39.102660\n",
       "3          41.062130\n",
       "4          39.172393\n",
       "             ...    \n",
       "2845337    34.002480\n",
       "2845338    32.766960\n",
       "2845339    33.775450\n",
       "2845340    33.992460\n",
       "2845341    34.133930\n",
       "Name: Start_Lat, Length: 2845342, dtype: float64"
      ]
     },
     "execution_count": 106,
     "metadata": {},
     "output_type": "execute_result"
    }
   ],
   "source": [
    "df.Start_Lat"
   ]
  },
  {
   "cell_type": "code",
   "execution_count": null,
   "metadata": {
    "id": "OiWX7HauwLnm"
   },
   "outputs": [],
   "source": [
    "sample_df=df.sample(int(0.1*len(df)))"
   ]
  },
  {
   "cell_type": "code",
   "execution_count": null,
   "metadata": {
    "colab": {
     "base_uri": "https://localhost:8080/",
     "height": 282
    },
    "id": "RMc4aQK-xkO2",
    "outputId": "32880ad0-218b-47fa-8d7b-4eab28d5dfcd"
   },
   "outputs": [
    {
     "data": {
      "image/png": "[encoded data removed]",
      "text/plain": [
       "<Figure size 432x288 with 1 Axes>"
      ]
     },
     "metadata": {},
     "output_type": "display_data"
    }
   ],
   "source": [
    "sns.scatterplot(x=sample_df.Start_Lng,y=sample_df.Start_Lat,size=0.001);"
   ]
  },
  {
   "cell_type": "code",
   "execution_count": null,
   "metadata": {
    "colab": {
     "base_uri": "https://localhost:8080/"
    },
    "id": "Utxr2Z3wx3L9",
    "outputId": "2f751f76-8a45-43e4-ec21-7b1b839ba249"
   },
   "outputs": [
    {
     "data": {
      "text/plain": [
       "(39.85798, -84.5395)"
      ]
     },
     "execution_count": 119,
     "metadata": {},
     "output_type": "execute_result"
    }
   ],
   "source": [
    "import folium\n",
    "lat,lon=df.Start_Lat[23],df.Start_Lng[24]\n",
    "lat,lon"
   ]
  },
  {
   "cell_type": "code",
   "execution_count": null,
   "metadata": {
    "id": "5GUse_w709ly"
   },
   "outputs": [],
   "source": []
  },
  {
   "cell_type": "code",
   "execution_count": 122,
   "metadata": {
    "colab": {
     "base_uri": "https://localhost:8080/",
     "height": 763
    },
    "id": "4zR_f_QtypKd",
    "outputId": "68ca8b7b-ca93-4ce1-8e28-5b792c3eb4ab"
   },
   "outputs": [
    {
     "data": {
      "text/html": [
       "<div style=\"width:100%;\"><div style=\"position:relative;width:100%;height:0;padding-bottom:60%;\"><span style=\"color:#565656\">Make this Notebook Trusted to load map: File -> Trust Notebook</span><iframe srcdoc=\"&lt;!DOCTYPE html&gt;\n",
       "&lt;head&gt;    \n",
       "    &lt;meta http-equiv=&quot;content-type&quot; content=&quot;text/html; charset=UTF-8&quot; /&gt;\n",
       "    &lt;script&gt;L_PREFER_CANVAS=false; L_NO_TOUCH=false; L_DISABLE_3D=false;&lt;/script&gt;\n",
       "    &lt;script src=&quot;https://cdn.jsdelivr.net/npm/leaflet@1.4.0/dist/leaflet.js&quot;&gt;&lt;/script&gt;\n",
       "    &lt;script src=&quot;https://code.jquery.com/jquery-1.12.4.min.js&quot;&gt;&lt;/script&gt;\n",
       "    &lt;script src=&quot;https://maxcdn.bootstrapcdn.com/bootstrap/3.2.0/js/bootstrap.min.js&quot;&gt;&lt;/script&gt;\n",
       "    &lt;script src=&quot;https://cdnjs.cloudflare.com/ajax/libs/Leaflet.awesome-markers/2.0.2/leaflet.awesome-markers.js&quot;&gt;&lt;/script&gt;\n",
       "    &lt;link rel=&quot;stylesheet&quot; href=&quot;https://cdn.jsdelivr.net/npm/leaflet@1.4.0/dist/leaflet.css&quot;/&gt;\n",
       "    &lt;link rel=&quot;stylesheet&quot; href=&quot;https://maxcdn.bootstrapcdn.com/bootstrap/3.2.0/css/bootstrap.min.css&quot;/&gt;\n",
       "    &lt;link rel=&quot;stylesheet&quot; href=&quot;https://maxcdn.bootstrapcdn.com/bootstrap/3.2.0/css/bootstrap-theme.min.css&quot;/&gt;\n",
       "    &lt;link rel=&quot;stylesheet&quot; href=&quot;https://maxcdn.bootstrapcdn.com/font-awesome/4.6.3/css/font-awesome.min.css&quot;/&gt;\n",
       "    &lt;link rel=&quot;stylesheet&quot; href=&quot;https://cdnjs.cloudflare.com/ajax/libs/Leaflet.awesome-markers/2.0.2/leaflet.awesome-markers.css&quot;/&gt;\n",
       "    &lt;link rel=&quot;stylesheet&quot; href=&quot;https://rawcdn.githack.com/python-visualization/folium/master/folium/templates/leaflet.awesome.rotate.css&quot;/&gt;\n",
       "    &lt;style&gt;html, body {width: 100%;height: 100%;margin: 0;padding: 0;}&lt;/style&gt;\n",
       "    &lt;style&gt;#map {position:absolute;top:0;bottom:0;right:0;left:0;}&lt;/style&gt;\n",
       "    \n",
       "    &lt;meta name=&quot;viewport&quot; content=&quot;width=device-width,\n",
       "        initial-scale=1.0, maximum-scale=1.0, user-scalable=no&quot; /&gt;\n",
       "    &lt;style&gt;#map_34b2e81ed49d782ae3e5309697d15fff {\n",
       "        position: relative;\n",
       "        width: 100.0%;\n",
       "        height: 100.0%;\n",
       "        left: 0.0%;\n",
       "        top: 0.0%;\n",
       "        }\n",
       "    &lt;/style&gt;\n",
       "&lt;/head&gt;\n",
       "&lt;body&gt;    \n",
       "    \n",
       "    &lt;div class=&quot;folium-map&quot; id=&quot;map_34b2e81ed49d782ae3e5309697d15fff&quot; &gt;&lt;/div&gt;\n",
       "&lt;/body&gt;\n",
       "&lt;script&gt;    \n",
       "    \n",
       "    \n",
       "        var bounds = null;\n",
       "    \n",
       "\n",
       "    var map_34b2e81ed49d782ae3e5309697d15fff = L.map(\n",
       "        &#x27;map_34b2e81ed49d782ae3e5309697d15fff&#x27;, {\n",
       "        center: [0, 0],\n",
       "        zoom: 1,\n",
       "        maxBounds: bounds,\n",
       "        layers: [],\n",
       "        worldCopyJump: false,\n",
       "        crs: L.CRS.EPSG3857,\n",
       "        zoomControl: true,\n",
       "        });\n",
       "\n",
       "\n",
       "    \n",
       "    var tile_layer_2ccda60dd91b9c8548f6a35300e11c3f = L.tileLayer(\n",
       "        &#x27;https://{s}.tile.openstreetmap.org/{z}/{x}/{y}.png&#x27;,\n",
       "        {\n",
       "        &quot;attribution&quot;: null,\n",
       "        &quot;detectRetina&quot;: false,\n",
       "        &quot;maxNativeZoom&quot;: 18,\n",
       "        &quot;maxZoom&quot;: 18,\n",
       "        &quot;minZoom&quot;: 0,\n",
       "        &quot;noWrap&quot;: false,\n",
       "        &quot;opacity&quot;: 1,\n",
       "        &quot;subdomains&quot;: &quot;abc&quot;,\n",
       "        &quot;tms&quot;: false\n",
       "}).addTo(map_34b2e81ed49d782ae3e5309697d15fff);\n",
       "    \n",
       "        var marker_3f169476ecdff45182e8deeaf1016294 = L.marker(\n",
       "            [39.85798, -84.5395],\n",
       "            {\n",
       "                icon: new L.Icon.Default(),\n",
       "                }\n",
       "            ).addTo(map_34b2e81ed49d782ae3e5309697d15fff);\n",
       "        \n",
       "&lt;/script&gt;\" style=\"position:absolute;width:100%;height:100%;left:0;top:0;border:none !important;\" allowfullscreen webkitallowfullscreen mozallowfullscreen></iframe></div></div>"
      ],
      "text/plain": [
       "<folium.folium.Map at 0x7fbb18442550>"
      ]
     },
     "execution_count": 122,
     "metadata": {},
     "output_type": "execute_result"
    }
   ],
   "source": [
    "map=folium.Map()\n",
    "marker=folium.Marker((lat,lon))\n",
    "marker.add_to(map)\n",
    "map"
   ]
  },
  {
   "cell_type": "code",
   "execution_count": 124,
   "metadata": {
    "colab": {
     "base_uri": "https://localhost:8080/"
    },
    "id": "6Zcn1K4KHChv",
    "outputId": "95c84c1a-f6b1-4076-e62a-d9aab0d6440e"
   },
   "outputs": [
    {
     "data": {
      "text/plain": [
       "[(40.10891, -83.09286),\n",
       " (39.86542, -84.0628),\n",
       " (39.10266, -84.52468),\n",
       " (41.06213, -81.53784),\n",
       " (39.172393, -84.49279200000002),\n",
       " (39.06324, -84.03243),\n",
       " (39.77565, -84.18603),\n",
       " (41.37531, -81.82016999999998),\n",
       " (40.702247, -84.075887),\n",
       " (40.10931, -82.96849),\n",
       " (39.19288, -84.47723),\n",
       " (39.13877, -84.53394),\n",
       " (41.4739, -81.704233),\n",
       " (39.582242, -83.677814),\n",
       " (40.151785, -81.312635),\n",
       " (40.151747, -81.312682),\n",
       " (39.97241, -82.84695),\n",
       " (39.9838, -82.85656999999998),\n",
       " (40.02664, -82.9944),\n",
       " (41.679361, -83.573037),\n",
       " (40.99613, -85.26613),\n",
       " (39.0381, -84.59243000000002),\n",
       " (40.03386, -82.99601),\n",
       " (39.85798, -84.28181),\n",
       " (39.15267, -84.5395),\n",
       " (39.30732, -85.95982),\n",
       " (39.77572, -84.04815),\n",
       " (39.97643, -83.12306),\n",
       " (39.58595, -85.82518),\n",
       " (39.3638, -85.51659000000002),\n",
       " (39.45132, -85.62516),\n",
       " (39.75067, -84.14148),\n",
       " (39.2675, -81.49929),\n",
       " (39.86025, -85.96623000000002),\n",
       " (41.95677, -83.67214),\n",
       " (38.27401, -85.74844),\n",
       " (41.95677, -83.67214),\n",
       " (40.52225, -80.06666),\n",
       " (40.487814, -80.009439),\n",
       " (40.156298, -83.018431),\n",
       " (41.47461, -81.71181999999997),\n",
       " (41.0618, -81.54608),\n",
       " (40.45112, -85.15048),\n",
       " (40.35429, -85.14993),\n",
       " (39.75855, -85.13715),\n",
       " (39.74408, -85.13749),\n",
       " (39.965148, -83.020499),\n",
       " (40.72813, -84.78965),\n",
       " (39.85223, -85.25846999999997),\n",
       " (41.46747, -81.75909),\n",
       " (41.83193, -80.10143000000002),\n",
       " (39.744287, -84.204939),\n",
       " (39.71548, -84.22033),\n",
       " (39.7504, -84.20561),\n",
       " (41.72316, -84.96444),\n",
       " (40.04376, -82.99708000000003),\n",
       " (38.1781, -85.71946),\n",
       " (38.18577, -85.80678),\n",
       " (38.27191, -85.80838),\n",
       " (39.923905, -82.87008),\n",
       " (41.035566, -81.569917),\n",
       " (39.9239, -83.68767),\n",
       " (41.851914, -80.175232),\n",
       " (39.93849, -82.84849),\n",
       " (38.96943, -80.1096),\n",
       " (41.66805, -83.57063000000002),\n",
       " (41.48339, -81.66297),\n",
       " (41.50127, -81.4804),\n",
       " (39.789093, -82.989106),\n",
       " (41.67073, -81.24561),\n",
       " (41.70846, -81.17636),\n",
       " (41.44246, -81.78485),\n",
       " (39.77128, -84.1923),\n",
       " (41.50499, -81.47417),\n",
       " (40.109653, -80.2029),\n",
       " (38.38852, -81.7687),\n",
       " (41.03572, -81.57809),\n",
       " (41.47487, -81.72095),\n",
       " (41.62845, -84.80559000000002),\n",
       " (41.62894, -84.80373),\n",
       " (41.16102, -81.78573),\n",
       " (41.628232, -84.808858),\n",
       " (41.62986, -84.76619000000002),\n",
       " (39.74729, -84.21426),\n",
       " (41.42099, -81.69051999999998),\n",
       " (41.42318, -81.84674),\n",
       " (38.79691, -84.48273),\n",
       " (38.80878, -84.49638),\n",
       " (38.30155, -85.85499),\n",
       " (38.33667, -81.65623000000002),\n",
       " (38.33614, -81.65623000000002),\n",
       " (41.0961, -81.58593),\n",
       " (41.12155, -85.18715999999998),\n",
       " (38.829993, -80.667067),\n",
       " (40.05642, -83.03097),\n",
       " (41.37717, -81.5139),\n",
       " (39.17397, -84.49031),\n",
       " (39.75513, -84.16614),\n",
       " (39.17397, -84.49031),\n",
       " (41.12624, -81.65299),\n",
       " (38.33667, -81.65623000000002),\n",
       " (41.10389, -81.5),\n",
       " (39.16417, -84.45275),\n",
       " (40.11184, -83.00883),\n",
       " (38.31922, -85.75301999999998),\n",
       " (39.09881, -84.50801),\n",
       " (41.473859, -81.708409),\n",
       " (41.039988, -81.565332),\n",
       " (41.73565, -84.99082),\n",
       " (39.26566, -84.43965),\n",
       " (41.46981, -81.81104),\n",
       " (41.25666, -81.63157),\n",
       " (40.58919, -80.09885),\n",
       " (41.06356, -81.49078),\n",
       " (41.06218, -81.50595),\n",
       " (39.17736, -84.4873),\n",
       " (38.33956, -81.60991999999997),\n",
       " (41.47889, -81.6934),\n",
       " (40.58919, -80.09885),\n",
       " (41.41119000000001, -81.64414000000002),\n",
       " (39.24907, -84.44561999999998),\n",
       " (39.28775, -84.40073000000002),\n",
       " (41.47379, -81.89631),\n",
       " (41.54941, -81.60676),\n",
       " (39.03347, -84.603),\n",
       " (39.74903, -84.20106),\n",
       " (39.89473, -83.044),\n",
       " (39.19641, -84.47331),\n",
       " (39.22461, -84.45364000000002),\n",
       " (39.15306, -84.44283),\n",
       " (39.97262, -82.98368),\n",
       " (40.535447, -80.03596),\n",
       " (40.529455, -80.03506999999998),\n",
       " (41.49647, -81.67733),\n",
       " (41.0634, -81.49079),\n",
       " (39.74284, -84.20479),\n",
       " (41.46822, -81.9476),\n",
       " (41.92479, -83.36026),\n",
       " (41.184738, -80.432713),\n",
       " (40.27317, -85.5577),\n",
       " (39.98264, -85.14301999999998),\n",
       " (40.27317, -85.5577),\n",
       " (40.42667, -85.54968000000002),\n",
       " (39.97527, -85.14018),\n",
       " (39.09889, -84.52118),\n",
       " (38.88012, -84.62527),\n",
       " (38.79256, -84.60423),\n",
       " (39.74284, -84.20479),\n",
       " (40.484222, -80.13755400000002),\n",
       " (41.20104, -80.06859),\n",
       " (39.05528, -84.39072),\n",
       " (41.623325, -83.692226),\n",
       " (40.53024, -80.00957),\n",
       " (40.06527, -82.99591),\n",
       " (40.43954, -80.00971),\n",
       " (41.422004, -81.730092),\n",
       " (39.3638, -85.51659000000002),\n",
       " (39.82083, -85.7749),\n",
       " (40.0366, -85.72561999999998),\n",
       " (39.855691, -84.29079200000002),\n",
       " (40.049152, -85.682047),\n",
       " (39.83939, -85.55752),\n",
       " (40.13386, -80.00666),\n",
       " (40.43954, -80.00971),\n",
       " (40.13386, -80.00666),\n",
       " (40.13386, -80.00666),\n",
       " (39.97859, -82.9763),\n",
       " (39.95459, -83.04255),\n",
       " (39.68291, -85.97372),\n",
       " (38.49304, -85.77156),\n",
       " (38.33428, -85.82177),\n",
       " (39.99921, -83.02875),\n",
       " (38.53844, -85.77702),\n",
       " (38.1781, -85.71946),\n",
       " (39.87433, -82.99882),\n",
       " (41.39546, -85.32855),\n",
       " (41.39469, -85.28893000000002),\n",
       " (41.90473, -83.36986),\n",
       " (40.77137000000001, -84.62203000000002),\n",
       " (40.80059, -84.61374),\n",
       " (39.87433, -82.99882),\n",
       " (40.78593, -84.61787),\n",
       " (40.80059, -84.61374),\n",
       " (41.67487, -83.57266),\n",
       " (41.47376, -81.86113),\n",
       " (38.33465, -85.75389),\n",
       " (39.14014, -84.53495),\n",
       " (41.80143, -85.34888000000002),\n",
       " (41.35761, -81.81988),\n",
       " (39.34392, -84.39043000000002),\n",
       " (39.816154, -83.18010500000003),\n",
       " (38.824929, -85.47449499999998),\n",
       " (38.82415, -85.63794),\n",
       " (40.593244, -85.150017),\n",
       " (40.600487, -85.150502),\n",
       " (41.19362, -80.2374),\n",
       " (40.55267, -85.14974000000002),\n",
       " (40.56744000000001, -85.14993),\n",
       " (40.14212, -81.55153),\n",
       " (39.94397, -82.41127),\n",
       " (39.96893, -83.11922),\n",
       " (40.6126, -80.09494000000002),\n",
       " (40.11184, -83.00883),\n",
       " (41.06347, -81.50372),\n",
       " (39.972931, -85.965783),\n",
       " (39.95459, -83.04255),\n",
       " (40.11184, -83.00883),\n",
       " (39.97241, -82.84695),\n",
       " (39.9912, -85.9188),\n",
       " (41.34965, -81.51146),\n",
       " (41.11987, -80.69004),\n",
       " (41.11851, -80.69242),\n",
       " (40.05642, -83.03097),\n",
       " (38.117487, -85.760397),\n",
       " (41.44134, -81.65055),\n",
       " (38.61531, -80.76034),\n",
       " (41.124052, -80.677589),\n",
       " (39.95085, -82.94428),\n",
       " (41.06257, -81.52228000000002),\n",
       " (40.11212, -83.03905999999998),\n",
       " (39.887033, -83.043909),\n",
       " (40.04916, -83.03336),\n",
       " (41.12906, -85.1612),\n",
       " (41.17798, -85.10323000000002),\n",
       " (38.08783, -83.90263),\n",
       " (41.63316, -83.54203000000003),\n",
       " (39.149639, -84.539381),\n",
       " (40.9605, -85.3528),\n",
       " (40.96051, -85.34522),\n",
       " (41.08204, -80.64846999999997),\n",
       " (41.61791, -83.54106999999998),\n",
       " (38.41592, -82.3465),\n",
       " (41.67571, -83.69385),\n",
       " (39.08272, -84.52264),\n",
       " (39.280947, -80.278075),\n",
       " (38.36387, -81.73867),\n",
       " (40.0187, -82.90465999999998),\n",
       " (41.53757, -81.64083000000002),\n",
       " (41.16522, -81.47454),\n",
       " (39.52352, -82.02360999999998),\n",
       " (39.517216, -82.025802),\n",
       " (40.322818, -83.071034),\n",
       " (41.73565, -84.99082),\n",
       " (39.14648, -84.45455),\n",
       " (39.82122, -85.76482),\n",
       " (41.11889, -81.65406999999998),\n",
       " (40.121557, -83.151457),\n",
       " (40.11017, -83.15876999999998),\n",
       " (41.57777, -81.54987),\n",
       " (40.121557, -83.151457),\n",
       " (40.11017, -83.15876999999998),\n",
       " (41.04592, -81.69463),\n",
       " (41.42099, -81.69051999999998),\n",
       " (39.27486, -84.346),\n",
       " (39.28266, -84.56742),\n",
       " (39.9467, -82.22232),\n",
       " (39.17397, -84.49031),\n",
       " (39.17736, -84.4873),\n",
       " (39.9467, -82.22232),\n",
       " (39.9467, -82.22232),\n",
       " (41.68518, -83.5678),\n",
       " (41.66572, -83.5652),\n",
       " (39.27125, -84.35176),\n",
       " (41.47395, -81.69931),\n",
       " (39.98505, -80.74006),\n",
       " (39.95813, -80.76219),\n",
       " (41.56544, -81.5835),\n",
       " (38.32587, -83.11389),\n",
       " (38.25869, -85.7622),\n",
       " (38.29322, -85.654625),\n",
       " (39.78609, -83.24606999999997),\n",
       " (41.53968, -81.62795),\n",
       " (39.08927, -84.5227),\n",
       " (38.25922, -85.76632),\n",
       " (41.55264, -81.60032),\n",
       " (39.02187, -84.50492),\n",
       " (41.06755, -81.57421),\n",
       " (40.49223, -80.01029),\n",
       " (41.48836, -81.66471),\n",
       " (39.95085, -82.94428),\n",
       " (41.42063, -81.80859),\n",
       " (41.06755, -81.57421),\n",
       " (40.82949, -81.39732),\n",
       " (41.40091, -81.81724),\n",
       " (41.13355, -85.13584),\n",
       " (38.870386, -84.624429),\n",
       " (41.47974, -81.6667),\n",
       " (40.30095, -80.16651999999998),\n",
       " (39.11543, -84.50003000000002),\n",
       " (41.1419, -81.47694),\n",
       " (39.14917, -84.44711),\n",
       " (39.81979000000001, -84.18908),\n",
       " (39.84509, -84.1899),\n",
       " (41.47461, -81.71181999999997),\n",
       " (39.17304, -84.47589),\n",
       " (39.1021, -84.49754),\n",
       " (41.49873, -81.67260999999998),\n",
       " (39.12627, -84.53509),\n",
       " (41.47394600000001, -81.699011),\n",
       " (39.9745, -83.09654),\n",
       " (39.85911, -84.2808),\n",
       " (39.24943, -84.36541),\n",
       " (38.31179, -85.58773000000002),\n",
       " (39.27486, -84.346),\n",
       " (39.29287, -84.31981),\n",
       " (39.15267, -84.5395),\n",
       " (41.4675, -81.49014),\n",
       " (39.26661, -84.35605),\n",
       " (39.27125, -84.35176),\n",
       " (38.20674, -85.74846),\n",
       " (40.13804, -82.97112),\n",
       " (41.47965, -81.66758),\n",
       " (39.08887, -84.52271),\n",
       " (41.6882, -83.64064),\n",
       " (40.06527, -82.99591),\n",
       " (39.86536, -84.05238),\n",
       " (38.420223, -82.293065),\n",
       " (41.47414000000001, -81.69893),\n",
       " (41.47542, -81.68721),\n",
       " (40.07297, -83.1347),\n",
       " (40.05609000000001, -80.679211),\n",
       " (38.19105, -85.71902),\n",
       " (38.25454000000001, -85.71969),\n",
       " (39.171694, -84.494399),\n",
       " (41.06239, -81.52229),\n",
       " (39.259254, -84.440978),\n",
       " (39.905178, -82.895471),\n",
       " (40.0988, -83.13331),\n",
       " (41.33991, -81.81739),\n",
       " (40.0999, -82.92089),\n",
       " (39.4728, -80.11963),\n",
       " (41.46631, -81.77065999999998),\n",
       " (38.34109, -81.70017),\n",
       " (41.160072, -85.232647),\n",
       " (41.163626, -85.24482900000002),\n",
       " (39.14014, -84.53495),\n",
       " (40.94537, -81.15473),\n",
       " (41.68591, -83.911307),\n",
       " (41.704523, -83.9136),\n",
       " (40.945772, -81.17219399999998),\n",
       " (38.82445, -82.98299),\n",
       " (38.84111, -82.98432),\n",
       " (39.00079, -84.42043000000002),\n",
       " (39.96071, -85.35383),\n",
       " (39.2675, -81.49929),\n",
       " (40.27317, -85.5577),\n",
       " (40.42667, -85.54968000000002),\n",
       " (38.130782, -81.388878),\n",
       " (38.545195, -85.778613),\n",
       " (38.362427, -81.714434),\n",
       " (38.39115, -81.58664),\n",
       " (40.08978, -82.98725999999998),\n",
       " (40.0122, -82.99188000000002),\n",
       " (41.68918, -83.53681999999998),\n",
       " (39.3781, -84.365),\n",
       " (39.11919, -84.53539),\n",
       " (39.05029, -83.77673),\n",
       " (39.04827, -83.77199),\n",
       " (40.0717, -82.90821),\n",
       " (39.09655, -84.48312),\n",
       " (40.43077, -80.02638),\n",
       " (41.443708, -85.19285),\n",
       " (41.438119, -85.15969399999999),\n",
       " (41.46747, -81.75909),\n",
       " (39.044435, -84.465864),\n",
       " (39.22461, -84.45364000000002),\n",
       " (41.104217, -81.499987),\n",
       " (41.1003, -81.4999),\n",
       " (39.1021, -84.49754),\n",
       " (41.46375, -81.69353000000002),\n",
       " (41.52134, -83.45642),\n",
       " (41.52549000000001, -83.46344),\n",
       " (41.43166, -81.68160999999998),\n",
       " (38.22363, -85.50532),\n",
       " (40.85466, -81.41646999999998),\n",
       " (38.22272, -85.50111),\n",
       " (39.12424, -84.53501),\n",
       " (39.09858, -84.51974),\n",
       " (39.63551, -84.19519),\n",
       " (40.39715, -80.10368000000003),\n",
       " (41.56709, -81.57816),\n",
       " (41.18225, -84.94275999999998),\n",
       " (39.10148, -84.52341),\n",
       " (41.55245, -83.60061999999998),\n",
       " (38.52006, -81.35221),\n",
       " (41.3513, -83.62276),\n",
       " (39.25015, -81.30566),\n",
       " (41.345031, -82.285379),\n",
       " (41.351335, -82.26144599999998),\n",
       " (38.38457, -81.804429),\n",
       " (40.41528, -80.01234000000002),\n",
       " (40.03598, -83.12479),\n",
       " (41.03669, -81.50492),\n",
       " (41.68971, -83.53045999999998),\n",
       " (39.587784, -83.723939),\n",
       " (39.626237, -83.73105),\n",
       " (41.06243, -81.49904000000002),\n",
       " (39.97262, -82.98368),\n",
       " (39.93658, -83.00941999999998),\n",
       " (41.208579, -82.807829),\n",
       " (41.4051, -81.8184),\n",
       " (39.29035, -84.39078),\n",
       " (39.90524, -82.89541),\n",
       " (40.04376, -82.99708000000003),\n",
       " (39.98793, -82.98568),\n",
       " (41.874915, -85.409527),\n",
       " (41.890234, -85.409642),\n",
       " (39.9335, -82.78939),\n",
       " (40.04916, -83.03336),\n",
       " (39.99493, -82.93332),\n",
       " (39.83727, -83.09326999999998),\n",
       " (40.98954000000001, -81.49372),\n",
       " (38.53844, -85.77702),\n",
       " (41.10389, -81.5),\n",
       " (38.577894, -85.77896),\n",
       " (41.42099, -81.69051999999998),\n",
       " (38.58054600000001, -85.77866),\n",
       " (39.833935, -84.061832),\n",
       " (38.30344, -85.88893),\n",
       " (39.93654, -83.40048),\n",
       " (39.95612, -83.37499),\n",
       " (39.17766, -84.39780999999998),\n",
       " (40.02155, -83.0354),\n",
       " (39.97518, -85.63374),\n",
       " (39.94576, -85.63454),\n",
       " (40.27744000000001, -85.72518000000002),\n",
       " (39.17304, -84.47589),\n",
       " (41.68648, -83.5669),\n",
       " (41.66267, -85.03312),\n",
       " (41.68976, -83.666),\n",
       " (39.94594, -82.9432),\n",
       " (41.4758, -81.66036),\n",
       " (41.628312, -84.812135),\n",
       " (39.96724, -83.02459),\n",
       " (41.96429000000001, -83.35018000000002),\n",
       " (41.282993, -83.638931),\n",
       " (41.63126, -83.48336),\n",
       " (41.427584, -85.8495),\n",
       " (41.471378, -85.839527),\n",
       " (41.46747, -81.75909),\n",
       " (39.18364, -84.48373000000002),\n",
       " (41.94495, -80.40234),\n",
       " (39.53078, -84.310264),\n",
       " (41.438774, -81.80341999999997),\n",
       " (39.9838, -82.85656999999998),\n",
       " (40.44413400000001, -80.028261),\n",
       " (39.97727, -83.15445),\n",
       " (39.9745, -83.09654),\n",
       " (39.97865, -83.11698),\n",
       " (39.97327, -83.12002),\n",
       " (39.22571, -84.36832),\n",
       " (39.986342, -83.118881),\n",
       " (39.73629, -84.20489),\n",
       " (41.4051, -81.8184),\n",
       " (41.41101, -81.66634),\n",
       " (39.24464, -84.44835),\n",
       " (40.11212, -83.03905999999998),\n",
       " (40.30095, -80.16651999999998),\n",
       " (41.49243, -81.67554),\n",
       " (40.1827, -80.26148),\n",
       " (39.95459, -83.04255),\n",
       " (39.97527, -85.14018),\n",
       " (39.98511, -85.14406),\n",
       " (38.29514, -85.75655),\n",
       " (39.93654, -83.40048),\n",
       " (39.11543, -84.50003000000002),\n",
       " (41.030684, -81.885739),\n",
       " (41.43166, -81.68160999999998),\n",
       " (40.6664, -80.227514),\n",
       " (40.67137, -80.22581),\n",
       " (41.305199, -81.438626),\n",
       " (40.354252, -85.843032),\n",
       " (40.402251, -85.842969),\n",
       " (41.26752000000001, -85.85673),\n",
       " (39.97307, -82.98405),\n",
       " (39.9672, -81.28699999999998),\n",
       " (39.96392, -81.27197),\n",
       " (41.52631, -83.62123000000003),\n",
       " (39.93292, -82.83025),\n",
       " (39.08272, -84.52264),\n",
       " (39.8552, -84.32502),\n",
       " (41.65404, -85.70526),\n",
       " (41.39465, -81.65326),\n",
       " (41.06211, -81.53053),\n",
       " (41.09598, -81.49976),\n",
       " (41.85222, -85.67843),\n",
       " (38.148808, -80.929665),\n",
       " (41.52447, -85.57791),\n",
       " (41.5105, -85.57781),\n",
       " (39.90524, -82.89541),\n",
       " (41.23598, -81.49325999999998),\n",
       " (38.70101, -80.66483000000002),\n",
       " (39.22498, -84.38094),\n",
       " (40.776023, -80.12718100000002),\n",
       " (38.86027, -80.65729),\n",
       " (39.88203, -83.04748000000002),\n",
       " (39.89253400000001, -83.038786),\n",
       " (39.89698, -83.03428000000002),\n",
       " (41.67439, -83.693727),\n",
       " (41.12999, -85.15503000000002),\n",
       " (39.09889, -84.52118),\n",
       " (41.52631, -83.62123000000003),\n",
       " (39.088552, -84.522724),\n",
       " (39.95423, -82.98879000000002),\n",
       " (39.21018, -84.46345),\n",
       " (39.95369, -82.96403000000002),\n",
       " (40.40934, -80.19247),\n",
       " (40.44126, -80.19314),\n",
       " (39.16161, -84.51375),\n",
       " (39.16161, -84.51375),\n",
       " (39.15141, -84.54061),\n",
       " (39.75855, -85.13715),\n",
       " (41.67571, -83.69385),\n",
       " (41.67571, -83.69385),\n",
       " (39.28805, -84.37462),\n",
       " (41.53618, -83.6176),\n",
       " (39.07202, -84.51907),\n",
       " (38.259133, -85.752672),\n",
       " (40.44425, -80.02821),\n",
       " (40.44278, -80.02468),\n",
       " (38.30155, -85.85499),\n",
       " (40.35405, -80.13756),\n",
       " (40.35449000000001, -80.13835999999998),\n",
       " (38.30344, -85.88893),\n",
       " (41.08789, -83.66011),\n",
       " (41.02454, -80.92163000000002),\n",
       " (41.02413, -80.90579),\n",
       " (39.08168, -84.7069),\n",
       " (38.18539000000001, -85.81793),\n",
       " (39.27734, -84.86438000000003),\n",
       " (39.16437, -84.43731),\n",
       " (39.748585, -84.226084),\n",
       " (39.4728, -80.11963),\n",
       " (41.187807, -80.149019),\n",
       " (41.19242, -80.15860500000002),\n",
       " (38.233483, -85.62671800000003),\n",
       " (38.33954, -81.609895),\n",
       " (40.07297, -83.1347),\n",
       " (40.08402, -83.13046),\n",
       " (38.34631, -83.40449),\n",
       " (38.35382, -83.40553),\n",
       " (39.04416, -84.46656),\n",
       " (38.41807, -81.54525),\n",
       " (38.309401, -85.847643),\n",
       " (41.64679, -83.54913),\n",
       " (38.198748, -85.733953),\n",
       " (39.97401, -82.99355),\n",
       " (39.17397, -84.49031),\n",
       " (41.68843, -83.56258000000003),\n",
       " (41.67904, -83.5732),\n",
       " (39.25249, -84.36493),\n",
       " (38.310736, -85.590395),\n",
       " (41.46941, -81.80535),\n",
       " (38.20674, -85.74846),\n",
       " (39.226317, -84.37107900000002),\n",
       " (41.68721, -83.55579),\n",
       " (40.09775, -84.22926),\n",
       " (41.42147, -81.70682),\n",
       " (38.29414600000001, -85.756847),\n",
       " (39.17304, -84.47589),\n",
       " (38.15982, -84.67308),\n",
       " (39.11675, -84.53355),\n",
       " (39.24943, -84.36541),\n",
       " (41.06146, -81.5049),\n",
       " (39.18364, -84.48373000000002),\n",
       " (39.98793, -82.98568),\n",
       " (39.95971, -83.04811),\n",
       " (39.1479, -84.53929000000002),\n",
       " (39.89555, -83.84997),\n",
       " (39.99226, -82.98517),\n",
       " (39.40983, -82.97548),\n",
       " (40.6126, -80.09494000000002),\n",
       " (39.22479000000001, -84.27783000000002),\n",
       " (39.11675, -84.53355),\n",
       " (41.43869, -81.80554000000002),\n",
       " (40.016819, -82.90411),\n",
       " (39.09757000000001, -84.51666),\n",
       " (41.06247000000001, -81.52405),\n",
       " (39.13219, -84.49464),\n",
       " (39.097654, -84.516019),\n",
       " (41.34965, -81.51146),\n",
       " (41.37717, -81.5139),\n",
       " (40.12589000000001, -80.13661),\n",
       " (40.13189000000001, -80.132407),\n",
       " (40.00507, -83.1186),\n",
       " (39.43794000000001, -82.53893000000002),\n",
       " (39.12627, -84.53509),\n",
       " (38.07759, -84.45711999999997),\n",
       " (40.09079000000001, -82.90783),\n",
       " (39.64731, -85.91696999999998),\n",
       " (39.08927, -84.5227),\n",
       " (38.26109, -85.73695),\n",
       " (38.19785, -85.70445),\n",
       " (39.05654000000001, -84.54283000000002),\n",
       " (41.42413, -81.64519),\n",
       " (39.28638, -84.42706),\n",
       " (41.37499, -83.61635),\n",
       " (41.06228, -81.50986999999998),\n",
       " (41.53907, -81.63354),\n",
       " (40.04916, -83.03336),\n",
       " (41.13613, -81.72196),\n",
       " (39.09891, -84.49181999999998),\n",
       " (39.96268, -82.84305),\n",
       " (39.17397, -84.49031),\n",
       " (39.16911, -84.42104),\n",
       " (39.003821, -80.391285),\n",
       " (39.17736, -84.4873),\n",
       " (39.14316, -84.47069),\n",
       " (39.2696, -84.34894),\n",
       " (40.521732, -81.64755),\n",
       " (40.513361, -81.651599),\n",
       " (41.52631, -83.62123000000003),\n",
       " (38.992607, -80.195782),\n",
       " (38.839151, -82.152877),\n",
       " (40.27675, -85.49916),\n",
       " (40.52168, -80.13163),\n",
       " (39.83711, -84.54392),\n",
       " (39.02296, -84.51784),\n",
       " (38.455787, -81.88205),\n",
       " (39.02397, -84.48039),\n",
       " (38.22433, -85.751),\n",
       " (39.05973, -84.42438),\n",
       " (39.27734, -84.86438000000003),\n",
       " (41.47965, -81.66758),\n",
       " (39.02257, -84.48631),\n",
       " (40.44846, -80.00755),\n",
       " (39.09891, -84.28556999999998),\n",
       " (41.06026, -81.55485999999998),\n",
       " (41.802758, -83.684687),\n",
       " (38.0791, -83.94591),\n",
       " (38.01846, -84.15159),\n",
       " (38.30344, -85.88893),\n",
       " (38.84109, -85.81618),\n",
       " (41.14181, -80.72015999999998),\n",
       " (39.14648, -84.45455),\n",
       " (41.04263, -81.50543),\n",
       " (38.21089, -85.82606),\n",
       " (39.75067, -84.14148),\n",
       " (38.28581, -85.50792),\n",
       " (39.15273300000001, -84.541403),\n",
       " (38.23585, -85.658849),\n",
       " (38.20249, -85.68697),\n",
       " (40.53491, -83.10678),\n",
       " (40.52035, -83.10043),\n",
       " (39.12965, -84.49555),\n",
       " (38.22811, -85.7514),\n",
       " (40.41233, -80.07815),\n",
       " (39.7504, -84.20561),\n",
       " (39.08272, -84.52264),\n",
       " (39.781457, -85.839651),\n",
       " (39.781457, -85.839651),\n",
       " (41.06076, -81.45923),\n",
       " (39.688148, -83.88431),\n",
       " (39.693164, -83.882745),\n",
       " (39.9488, -83.02845),\n",
       " (41.11584000000001, -81.61428000000002),\n",
       " (39.797697, -84.189677),\n",
       " (39.20326, -85.95763000000002),\n",
       " (39.24464, -84.44835),\n",
       " (39.73733, -84.25733000000002),\n",
       " (39.969853, -85.972976),\n",
       " (41.11889, -81.65406999999998),\n",
       " (39.13219, -84.49464),\n",
       " (41.458, -83.62201999999998),\n",
       " (40.09268, -83.03726),\n",
       " (40.066965, -83.289888),\n",
       " (40.045608, -83.29660799999998),\n",
       " (39.97307, -82.98405),\n",
       " (39.98248, -85.123922),\n",
       " (39.981095, -85.11027299999998),\n",
       " (40.43021, -80.02554),\n",
       " (40.43219000000001, -80.02781999999998),\n",
       " (39.976567, -83.128639),\n",
       " (41.256658, -85.363439),\n",
       " (41.37499, -83.61635),\n",
       " (41.252653, -85.347328),\n",
       " (39.93658, -83.00941999999998),\n",
       " (39.14014, -84.53495),\n",
       " (40.153014, -82.970316),\n",
       " (39.90524, -82.89541),\n",
       " (39.13219, -84.49464),\n",
       " (40.42581, -80.4294),\n",
       " (41.08789, -83.65977),\n",
       " (39.9488, -83.02845),\n",
       " (41.47585, -81.87980999999998),\n",
       " (39.1079, -84.50284),\n",
       " (38.340803, -81.680728),\n",
       " (40.96473, -85.28862),\n",
       " (38.441, -82.12679),\n",
       " (38.4413, -82.01529000000002),\n",
       " (38.441, -82.12679),\n",
       " (38.18977, -83.48379),\n",
       " (41.194131, -80.201982),\n",
       " (40.09601, -83.13626),\n",
       " (41.23632, -83.65401999999997),\n",
       " (38.1737, -84.81473000000003),\n",
       " (38.19016, -85.7616),\n",
       " (39.25249, -84.36493),\n",
       " (39.137217, -84.04718299999998),\n",
       " (39.141454, -84.016543),\n",
       " (38.344424, -81.613662),\n",
       " (41.93113, -83.35857),\n",
       " (40.89268, -84.61808),\n",
       " (40.46013, -80.19126),\n",
       " (41.119342, -80.698025),\n",
       " (41.117872, -80.693898),\n",
       " (39.15267, -84.5395),\n",
       " (38.27362, -85.80906),\n",
       " (41.458, -83.62201999999998),\n",
       " (39.35655, -84.26419),\n",
       " (38.4062, -81.54054000000002),\n",
       " (41.02525900000001, -81.5042),\n",
       " (38.27362, -85.80906),\n",
       " (38.11969000000001, -85.77235),\n",
       " (38.275406, -85.81314300000003),\n",
       " (38.27508, -85.81517099999998),\n",
       " (41.39769, -81.939),\n",
       " (39.46513, -80.13559000000002),\n",
       " (38.217994, -81.426024),\n",
       " (38.215401, -81.42437199999998),\n",
       " (39.042851, -84.612615),\n",
       " (38.26109, -85.73695),\n",
       " (39.05654000000001, -84.54283000000002),\n",
       " (41.840758, -84.361657),\n",
       " (41.841123, -84.361652),\n",
       " (41.63316, -83.54203000000003),\n",
       " (40.02874, -81.04368000000002),\n",
       " (41.43891, -81.80258),\n",
       " (41.0811, -81.50348000000002),\n",
       " (38.35575, -81.65420999999998),\n",
       " (39.94585, -82.94293),\n",
       " (41.69017, -83.5181),\n",
       " (40.11212, -83.03905999999998),\n",
       " (41.50259000000001, -81.66974),\n",
       " (39.989994, -83.02512),\n",
       " (41.480458, -81.692932),\n",
       " (39.22461, -84.45364000000002),\n",
       " (40.04376, -82.99708000000003),\n",
       " (39.93621, -82.88318000000002),\n",
       " (39.167788, -82.524172),\n",
       " (39.20655, -82.48212),\n",
       " (41.36576, -81.51602),\n",
       " (39.977322, -81.183327),\n",
       " (39.961933, -81.175436),\n",
       " (39.68292, -84.23004),\n",
       " (40.02664, -82.9944),\n",
       " (38.583372, -81.994824),\n",
       " (38.58119600000001, -82.004356),\n",
       " (40.07297, -83.1347),\n",
       " (41.58689, -83.56234),\n",
       " (38.31714, -85.57677),\n",
       " (40.07297, -83.1347),\n",
       " (39.07202, -84.51907),\n",
       " (41.46747, -81.75909),\n",
       " (40.82645, -81.39675),\n",
       " (40.82645, -81.39675),\n",
       " (39.05654000000001, -84.54283000000002),\n",
       " (39.06272, -84.65728),\n",
       " (39.03368, -84.59527),\n",
       " (40.02121, -82.99503),\n",
       " (39.866695, -84.9305),\n",
       " (39.05654000000001, -84.54283000000002),\n",
       " (39.03232, -84.59137),\n",
       " (41.04058, -81.61256999999998),\n",
       " (40.98884, -83.64875),\n",
       " (39.95658, -83.37075),\n",
       " (39.89857, -83.72139),\n",
       " (39.896448, -83.72312099999998),\n",
       " (41.47965, -81.66758),\n",
       " (39.71548, -84.22033),\n",
       " (40.0389, -85.71828000000002),\n",
       " (41.17516, -81.23116999999998),\n",
       " (41.15107, -81.21375),\n",
       " (40.0389, -85.71828000000002),\n",
       " (39.99336, -85.83861999999998),\n",
       " (40.46013, -80.19126),\n",
       " (41.68976, -83.666),\n",
       " (39.97326, -83.00690999999998),\n",
       " (39.48572, -83.94191),\n",
       " (39.83355, -85.99635),\n",
       " (39.79721, -85.97153),\n",
       " (39.98056, -83.11924),\n",
       " (41.458, -83.62243000000002),\n",
       " (39.905352, -82.995352),\n",
       " (39.99921, -83.02875),\n",
       " (40.869049, -81.95845600000001),\n",
       " (41.419021, -81.519515),\n",
       " (39.34392, -84.39043000000002),\n",
       " (39.9454, -82.60271),\n",
       " (38.353957, -81.73513100000002),\n",
       " (38.354505, -81.731585),\n",
       " (41.501623, -81.479519),\n",
       " (39.86477, -83.99871),\n",
       " (38.737813, -85.250959),\n",
       " (40.00507, -83.1186),\n",
       " (39.91978, -82.93149),\n",
       " (39.09757000000001, -84.51666),\n",
       " (41.07995, -81.50389),\n",
       " (41.63316, -83.54203000000003),\n",
       " (39.82529, -83.03175999999998),\n",
       " (39.83209, -82.99884),\n",
       " (39.83208, -83.000447),\n",
       " (38.416631, -84.861968),\n",
       " (40.55549, -80.11634000000002),\n",
       " (39.17736, -84.4873),\n",
       " (41.484589, -81.691778),\n",
       " (41.22734000000001, -81.62705),\n",
       " (39.04695, -84.57498000000002),\n",
       " (39.25595, -84.44287),\n",
       " (39.8888, -82.88181999999998),\n",
       " (39.74729, -84.21426),\n",
       " (39.97415, -83.09486),\n",
       " (39.08272, -84.52264),\n",
       " (39.949808, -83.02289300000002),\n",
       " (39.95141, -83.0137),\n",
       " (38.7056, -80.66107),\n",
       " (39.1479, -84.53929000000002),\n",
       " (41.7573, -83.48075),\n",
       " (39.98946, -85.9299),\n",
       " (39.98894, -83.025012),\n",
       " (41.110996, -80.82384),\n",
       " (41.68685900000001, -83.554005),\n",
       " (41.53907, -81.63354),\n",
       " (39.300562, -84.518869),\n",
       " (41.202543, -85.7011),\n",
       " (39.19288, -84.47723),\n",
       " (40.07297, -83.1347),\n",
       " (39.140991, -84.483618),\n",
       " (41.121599, -80.789503),\n",
       " (41.31438, -81.51286),\n",
       " (39.85922, -84.27762),\n",
       " (40.42005, -80.03531),\n",
       " (39.9589, -82.98257),\n",
       " (39.89087, -83.85382),\n",
       " (39.89862, -83.85353),\n",
       " (40.03938, -83.050567),\n",
       " (41.41218, -81.61371),\n",
       " (38.306159, -80.833765),\n",
       " (40.104, -82.94154),\n",
       " (38.24178, -85.62212),\n",
       " (41.55264, -81.60032),\n",
       " (39.99226, -82.98517),\n",
       " (38.31553, -85.58313000000003),\n",
       " (38.400331, -85.371049),\n",
       " (38.31251, -85.57741999999998),\n",
       " (38.400331, -85.371049),\n",
       " (39.88938, -82.88316),\n",
       " (38.15873, -80.90504),\n",
       " (39.9745, -83.09654),\n",
       " (41.47487, -81.72095),\n",
       " (39.26931, -84.4307),\n",
       " (38.2201, -85.82223),\n",
       " (41.48339, -81.66297),\n",
       " (39.16161, -84.51375),\n",
       " (41.42734, -82.08322),\n",
       " (41.52631, -83.62123000000003),\n",
       " (39.91732, -83.012335),\n",
       " (41.60867, -81.48891),\n",
       " (41.20554, -85.17116),\n",
       " (41.507189, -81.67124),\n",
       " (39.97415, -83.09486),\n",
       " (39.97043, -83.01961999999997),\n",
       " (39.93849, -82.84849),\n",
       " (39.89698, -83.03428000000002),\n",
       " (39.71452, -84.22281),\n",
       " (40.11468, -83.01644),\n",
       " (38.34244, -85.80447),\n",
       " (41.47036, -81.65984),\n",
       " (38.30056, -85.84703),\n",
       " (39.169389, -84.50389),\n",
       " (39.936838, -83.042661),\n",
       " (39.937567, -83.04209200000003),\n",
       " (39.9425, -82.53536),\n",
       " (39.27125, -84.35176),\n",
       " (41.398877, -83.616108),\n",
       " (39.24422, -84.30224),\n",
       " (40.412997, -80.07973299999998),\n",
       " (39.021521, -84.50784300000002),\n",
       " (41.12367, -80.76913),\n",
       " (41.073876, -83.66091999999998),\n",
       " (39.01992, -83.65886),\n",
       " (38.97914, -83.65465),\n",
       " (40.09927, -83.15793000000002),\n",
       " (39.93658, -83.00941999999998),\n",
       " (39.11543, -84.50003000000002),\n",
       " (41.474552, -81.711522),\n",
       " (39.78517, -84.18457),\n",
       " (41.47974, -81.6667),\n",
       " (38.27719, -85.69383),\n",
       " (38.495124, -85.771118),\n",
       " (39.73277, -84.20522),\n",
       " (41.458, -83.62243000000002),\n",
       " (39.045381, -84.462312),\n",
       " (41.526, -81.65974),\n",
       " (40.78725, -81.38592),\n",
       " (38.3657, -85.75495),\n",
       " (39.02575, -84.61272),\n",
       " (40.90923, -81.79765),\n",
       " (40.91649, -81.78869),\n",
       " (39.10051, -80.39199),\n",
       " (40.082643, -82.91367199999998),\n",
       " (41.47162, -81.90626),\n",
       " (40.08155, -82.91859000000002),\n",
       " (40.07976, -82.92689),\n",
       " (38.27511, -85.81238),\n",
       " (39.02908, -84.53565),\n",
       " (39.04455, -84.57798000000003),\n",
       " (39.83026, -81.45434),\n",
       " (39.81436, -81.46898),\n",
       " (38.41336, -82.3483),\n",
       " (38.20674, -85.74846),\n",
       " (38.10937, -85.70123000000002),\n",
       " (40.26758, -82.92745),\n",
       " (38.22285, -85.57436),\n",
       " (40.43827, -80.00527),\n",
       " (39.08272, -84.52264),\n",
       " (40.046599, -85.99359),\n",
       " (41.67904, -83.5732),\n",
       " (40.52225, -80.06666),\n",
       " (41.041763, -81.3932),\n",
       " (39.02541, -85.88784),\n",
       " (39.887572, -84.047499),\n",
       " (39.90803, -84.03969000000002),\n",
       " (39.8181, -81.45925),\n",
       " (39.8181, -81.45925),\n",
       " (39.81447, -81.46769),\n",
       " (41.47307, -80.36586),\n",
       " (41.460561, -80.366376),\n",
       " (39.75022, -84.19668),\n",
       " (39.16161, -84.51375),\n",
       " (39.82329, -84.166569),\n",
       " (39.818751, -84.167637),\n",
       " (39.15267, -84.5395),\n",
       " (40.480209, -85.719799),\n",
       " (39.02676, -84.61421),\n",
       " (40.480209, -85.719799),\n",
       " (40.48013, -85.72942900000002),\n",
       " (38.24863, -85.70467),\n",
       " (39.24907, -84.44561999999998),\n",
       " (39.18364, -84.48373000000002),\n",
       " (41.420898, -81.69322),\n",
       " (39.18976, -84.26285),\n",
       " (40.00921, -83.03149),\n",
       " (41.12369, -80.75595),\n",
       " (41.09705, -81.50012),\n",
       " (41.03011, -81.40292099999998),\n",
       " (39.9533, -83.0032),\n",
       " (39.91404, -83.01729),\n",
       " (39.11811, -84.49975),\n",
       " (39.73277, -84.20522),\n",
       " (41.47379, -81.69592),\n",
       " (41.47395, -81.69931),\n",
       " (39.62334, -81.83577),\n",
       " (39.98233, -82.98449000000002),\n",
       " (40.15106, -80.03243),\n",
       " (41.66332, -83.56385999999998),\n",
       " (39.35245, -84.37507),\n",
       " (41.67178, -83.6939),\n",
       " (38.38018, -82.60993),\n",
       " (39.03347, -84.603),\n",
       " (40.42116, -80.0438),\n",
       " (41.341147, -83.347543),\n",
       " (41.34131, -83.376561),\n",
       " (40.26758, -82.92745),\n",
       " (40.432459, -80.023538),\n",
       " (39.9912, -85.9188),\n",
       " (39.05654000000001, -84.54283000000002),\n",
       " (38.39328, -85.76223),\n",
       " (39.97165800000001, -80.017133),\n",
       " (39.98381, -80.01011),\n",
       " (39.84457, -85.51639399999998),\n",
       " (38.399528, -85.76430500000002),\n",
       " (38.38981, -81.76937),\n",
       " (41.47965, -81.66758),\n",
       " (39.97859, -82.9763),\n",
       " (40.68109000000001, -80.24616999999998),\n",
       " (41.47487, -81.72095),\n",
       " (40.68109000000001, -80.24616999999998),\n",
       " (40.1412, -82.97121),\n",
       " (39.85942, -84.27778),\n",
       " (39.10838, -84.50296999999998),\n",
       " (39.32662, -84.42002),\n",
       " (39.24907, -84.44561999999998),\n",
       " (41.11959, -81.64568),\n",
       " (39.04455, -84.57798000000003),\n",
       " (38.26109, -85.73695),\n",
       " (38.21911, -85.50582),\n",
       " (39.94976, -83.04032),\n",
       " (38.82584, -120.029214),\n",
       " (37.358209, -121.840017),\n",
       " (37.881943, -122.307987),\n",
       " (37.881038, -122.307788),\n",
       " (38.518811, -121.101664),\n",
       " (38.518811, -121.101664),\n",
       " (36.9903, -119.71146),\n",
       " (37.42592, -122.09879),\n",
       " (37.75745, -122.21131),\n",
       " (37.31648, -121.96746),\n",
       " (37.44415, -122.2688),\n",
       " (37.71981, -121.65943),\n",
       " ...]"
      ]
     },
     "execution_count": 124,
     "metadata": {},
     "output_type": "execute_result"
    }
   ],
   "source": [
    "list(zip(list(df.Start_Lat),list(df.Start_Lng)))\n",
    "# here we will get the list of several longitudes and latitudes"
   ]
  },
  {
   "cell_type": "code",
   "execution_count": 125,
   "metadata": {
    "id": "ZWBZ5wTjKbB1"
   },
   "outputs": [],
   "source": [
    "from folium.plugins import HeatMap\n"
   ]
  },
  {
   "cell_type": "code",
   "execution_count": 139,
   "metadata": {
    "id": "CBy3AeSUL0Ts"
   },
   "outputs": [],
   "source": [
    "saample_df=df.sample(int(0.0001)*len(df))\n",
    "lat_lon_pair=list(zip(list(sample_df.Start_Lat),list(sample_df.Start_Lng)))"
   ]
  },
  {
   "cell_type": "code",
   "execution_count": 140,
   "metadata": {
    "colab": {
     "base_uri": "https://localhost:8080/",
     "height": 763
    },
    "id": "RoxQoF-dLH-a",
    "outputId": "070334c5-e412-4b87-c697-3ea14d3020fb"
   },
   "outputs": [
    {
     "data": {
      "text/html": [
       "<div style=\"width:100%;\"><div style=\"position:relative;width:100%;height:0;padding-bottom:60%;\"><span style=\"color:#565656\">Make this Notebook Trusted to load map: File -> Trust Notebook</span><iframe srcdoc=\"&lt;!DOCTYPE html&gt;\n",
       "&lt;head&gt;    \n",
       "    &lt;meta http-equiv=&quot;content-type&quot; content=&quot;text/html; charset=UTF-8&quot; /&gt;\n",
       "    &lt;script&gt;L_PREFER_CANVAS=false; L_NO_TOUCH=false; L_DISABLE_3D=false;&lt;/script&gt;\n",
       "    &lt;script src=&quot;https://cdn.jsdelivr.net/npm/leaflet@1.4.0/dist/leaflet.js&quot;&gt;&lt;/script&gt;\n",
       "    &lt;script src=&quot;https://code.jquery.com/jquery-1.12.4.min.js&quot;&gt;&lt;/script&gt;\n",
       "    &lt;script src=&quot;https://maxcdn.bootstrapcdn.com/bootstrap/3.2.0/js/bootstrap.min.js&quot;&gt;&lt;/script&gt;\n",
       "    &lt;script src=&quot;https://cdnjs.cloudflare.com/ajax/libs/Leaflet.awesome-markers/2.0.2/leaflet.awesome-markers.js&quot;&gt;&lt;/script&gt;\n",
       "    &lt;link rel=&quot;stylesheet&quot; href=&quot;https://cdn.jsdelivr.net/npm/leaflet@1.4.0/dist/leaflet.css&quot;/&gt;\n",
       "    &lt;link rel=&quot;stylesheet&quot; href=&quot;https://maxcdn.bootstrapcdn.com/bootstrap/3.2.0/css/bootstrap.min.css&quot;/&gt;\n",
       "    &lt;link rel=&quot;stylesheet&quot; href=&quot;https://maxcdn.bootstrapcdn.com/bootstrap/3.2.0/css/bootstrap-theme.min.css&quot;/&gt;\n",
       "    &lt;link rel=&quot;stylesheet&quot; href=&quot;https://maxcdn.bootstrapcdn.com/font-awesome/4.6.3/css/font-awesome.min.css&quot;/&gt;\n",
       "    &lt;link rel=&quot;stylesheet&quot; href=&quot;https://cdnjs.cloudflare.com/ajax/libs/Leaflet.awesome-markers/2.0.2/leaflet.awesome-markers.css&quot;/&gt;\n",
       "    &lt;link rel=&quot;stylesheet&quot; href=&quot;https://rawcdn.githack.com/python-visualization/folium/master/folium/templates/leaflet.awesome.rotate.css&quot;/&gt;\n",
       "    &lt;style&gt;html, body {width: 100%;height: 100%;margin: 0;padding: 0;}&lt;/style&gt;\n",
       "    &lt;style&gt;#map {position:absolute;top:0;bottom:0;right:0;left:0;}&lt;/style&gt;\n",
       "    \n",
       "    &lt;meta name=&quot;viewport&quot; content=&quot;width=device-width,\n",
       "        initial-scale=1.0, maximum-scale=1.0, user-scalable=no&quot; /&gt;\n",
       "    &lt;style&gt;#map_67858783fc45651c5d6097c5b71acb50 {\n",
       "        position: relative;\n",
       "        width: 100.0%;\n",
       "        height: 100.0%;\n",
       "        left: 0.0%;\n",
       "        top: 0.0%;\n",
       "        }\n",
       "    &lt;/style&gt;\n",
       "    &lt;script src=&quot;https://leaflet.github.io/Leaflet.heat/dist/leaflet-heat.js&quot;&gt;&lt;/script&gt;\n",
       "&lt;/head&gt;\n",
       "&lt;body&gt;    \n",
       "    \n",
       "    &lt;div class=&quot;folium-map&quot; id=&quot;map_67858783fc45651c5d6097c5b71acb50&quot; &gt;&lt;/div&gt;\n",
       "&lt;/body&gt;\n",
       "&lt;script&gt;    \n",
       "    \n",
       "    \n",
       "        var bounds = null;\n",
       "    \n",
       "\n",
       "    var map_67858783fc45651c5d6097c5b71acb50 = L.map(\n",
       "        &#x27;map_67858783fc45651c5d6097c5b71acb50&#x27;, {\n",
       "        center: [0, 0],\n",
       "        zoom: 1,\n",
       "        maxBounds: bounds,\n",
       "        layers: [],\n",
       "        worldCopyJump: false,\n",
       "        crs: L.CRS.EPSG3857,\n",
       "        zoomControl: true,\n",
       "        });\n",
       "\n",
       "\n",
       "    \n",
       "    var tile_layer_2345412d38fe0e14b7b6d58224c2f7db = L.tileLayer(\n",
       "        &#x27;https://{s}.tile.openstreetmap.org/{z}/{x}/{y}.png&#x27;,\n",
       "        {\n",
       "        &quot;attribution&quot;: null,\n",
       "        &quot;detectRetina&quot;: false,\n",
       "        &quot;maxNativeZoom&quot;: 18,\n",
       "        &quot;maxZoom&quot;: 18,\n",
       "        &quot;minZoom&quot;: 0,\n",
       "        &quot;noWrap&quot;: false,\n",
       "        &quot;opacity&quot;: 1,\n",
       "        &quot;subdomains&quot;: &quot;abc&quot;,\n",
       "        &quot;tms&quot;: false\n",
       "}).addTo(map_67858783fc45651c5d6097c5b71acb50);\n",
       "    \n",
       "            var heat_map_69e78559327ccfe8a376b44a9e5c0087 = L.heatLayer(\n",
       "                [[35.274569, -80.696989], [35.076395, -114.122103], [36.770216, -121.755091], [33.986601, -117.875068], [33.487561, -86.709262], [25.957785, -80.340491], [41.998529, -88.02510500000002], [34.237722, -81.457217], [38.62888, -121.4056], [37.51732, -77.35011999999998], [33.785134, -84.387815], [33.600347, -117.672091], [38.790928, -121.774647], [44.62984, -92.85306], [25.685528, -80.446117], [42.360461, -88.01270799999998], [45.691291, -121.765626], [29.686095, -95.253572], [38.900731, -91.638582], [40.76067800000001, -73.754109], [37.614468, -120.980981], [39.981498, -75.26629399999999], [33.385424, -111.943474], [39.86023, -86.39571], [28.206124, -82.66490999999998], [36.940196, -121.802877], [33.434455, -117.617204], [33.122674, -111.845465], [32.676191, -96.602479], [44.355951, -93.293102], [30.457494, -91.177603], [39.203161, -120.095936], [38.121461, -121.400428], [27.072186, -80.246983], [35.24533800000001, -80.819909], [36.892071, -76.231454], [39.812082, -86.178957], [29.781178000000004, -95.368419], [34.74771, -82.160185], [36.27247, -77.72152], [35.825179, -78.705688], [42.912818, -85.647102], [42.5206, -83.62279000000002], [45.147103, -122.884944], [33.792156, -117.76122], [36.833358, -121.402025], [43.456021, -121.701199], [42.64601, -73.59669], [29.422576, -98.501672], [37.778081, -122.401165], [33.620928, -81.02624899999998], [35.873079, -84.467894], [28.088039, -82.453132], [29.665016, -95.528208], [34.278212, -118.860708], [33.904429, -84.238575], [42.27459, -85.42505], [38.352387, -122.77151299999998], [33.960849, -117.313738], [39.553336, -122.142771], [33.005347, -96.969708], [34.072133, -118.070701], [41.542614, -122.229261], [41.765967, -87.974312], [40.868099, -74.004024], [33.925529, -118.309155], [33.93819000000001, -118.35913700000002], [40.758901, -74.11594699999998], [40.021251, -75.317856], [37.369506, -76.989267], [29.732682, -95.5013], [30.28480900000001, -82.10780799999998], [44.777516, -117.141863], [36.220648, -95.853146], [25.826212, -80.337778], [34.031453000000006, -118.259732], [34.071642, -118.109526], [33.877283, -118.136956], [38.395525, -122.356618], [41.035445, -73.754604], [34.012278, -117.903301], [39.078176, -121.54722], [26.528094, -81.867521], [44.299242, -121.168823], [35.79424, -78.61287], [40.509692, -80.136129], [25.85225, -80.20814], [33.555692, -117.672801], [36.121988, -95.886703], [41.75201, -87.625], [34.226642, -119.16422], [34.06754, -117.55608], [40.75856, -73.85061], [39.750442, -84.17522], [34.08144, -117.731526], [38.74166, -77.08613000000003], [33.76502, -84.49386], [40.536643, -74.303444], [37.44362, -122.11764], [40.733079, -73.335095]],\n",
       "                {\n",
       "                    minOpacity: 0.5,\n",
       "                    maxZoom: 18,\n",
       "                    max: 1.0,\n",
       "                    radius: 25,\n",
       "                    blur: 15,\n",
       "                    gradient: null\n",
       "                    })\n",
       "                .addTo(map_67858783fc45651c5d6097c5b71acb50);\n",
       "        \n",
       "&lt;/script&gt;\" style=\"position:absolute;width:100%;height:100%;left:0;top:0;border:none !important;\" allowfullscreen webkitallowfullscreen mozallowfullscreen></iframe></div></div>"
      ],
      "text/plain": [
       "<folium.folium.Map at 0x7fbbab39a210>"
      ]
     },
     "execution_count": 140,
     "metadata": {},
     "output_type": "execute_result"
    }
   ],
   "source": [
    "map=folium.Map()\n",
    "HeatMap(lat_lon_pair[:100]).add_to(map)\n",
    "map"
   ]
  },
  {
   "cell_type": "code",
   "execution_count": 4,
   "metadata": {
    "id": "j_Ar4cv6Lche"
   },
   "outputs": [],
   "source": [
    "\n",
    "import jovian"
   ]
  },
  {
   "cell_type": "code",
   "execution_count": 5,
   "metadata": {
    "id": "7g6J2lIaOSW6"
   },
   "outputs": [
    {
     "data": {
      "application/javascript": [
       "window.require && require([\"base/js/namespace\"],function(Jupyter){Jupyter.notebook.save_checkpoint()})"
      ],
      "text/plain": [
       "<IPython.core.display.Javascript object>"
      ]
     },
     "metadata": {},
     "output_type": "display_data"
    },
    {
     "name": "stdout",
     "output_type": "stream",
     "text": [
      "[jovian] Updating notebook \"labheshmahajan01/real-project-f5e1d\" on https://jovian.ai\u001b[0m\n",
      "[jovian] Committed successfully! https://jovian.ai/labheshmahajan01/real-project-f5e1d\u001b[0m\n"
     ]
    },
    {
     "data": {
      "text/plain": [
       "'https://jovian.ai/labheshmahajan01/real-project-f5e1d'"
      ]
     },
     "execution_count": 5,
     "metadata": {},
     "output_type": "execute_result"
    }
   ],
   "source": [
    "jovian.commit()"
   ]
  },
  {
   "cell_type": "code",
   "execution_count": null,
   "metadata": {},
   "outputs": [],
   "source": []
  }
 ],
 "metadata": {
  "colab": {
   "collapsed_sections": [],
   "name": "real-project.ipynb",
   "provenance": []
  },
  "kernelspec": {
   "display_name": "Python 3 (ipykernel)",
   "language": "python",
   "name": "python3"
  },
  "language_info": {
   "codemirror_mode": {
    "name": "ipython",
    "version": 3
   },
   "file_extension": ".py",
   "mimetype": "text/x-python",
   "name": "python",
   "nbconvert_exporter": "python",
   "pygments_lexer": "ipython3",
   "version": "3.9.6"
  }
 },
 "nbformat": 4,
 "nbformat_minor": 1
}
